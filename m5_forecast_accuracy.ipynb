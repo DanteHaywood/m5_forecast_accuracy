{
  "nbformat": 4,
  "nbformat_minor": 0,
  "metadata": {
    "colab": {
      "name": "m5_forecast_accuracy.ipynb",
      "provenance": [],
      "collapsed_sections": []
    },
    "kernelspec": {
      "name": "python3",
      "display_name": "Python 3"
    }
  },
  "cells": [
    {
      "cell_type": "markdown",
      "metadata": {
        "id": "DnMSbVcglFPx",
        "colab_type": "text"
      },
      "source": [
        "## M5 Forecast Competition - Accuracy\n",
        "\n",
        "This notebook is a product for submission into the [M5 Forecast Competition](https://www.kaggle.com/c/m5-forecasting-accuracy) with more information from the organizer, [MOFC](https://mofc.unic.ac.cy/m5-competition/). The ultimate goal of the competition is \"... to advance the theory of forecasting and improve its utilization by business and non-profit organizations\"."
      ]
    },
    {
      "cell_type": "markdown",
      "metadata": {
        "id": "yFikW_gxmzKl",
        "colab_type": "text"
      },
      "source": [
        "### Credits\n",
        "\n",
        "This first section of this notebook creates a benchmark and is based off [M5 under-0.50 optimized](https://www.kaggle.com/poedator/m5-under-0-50-optimized) by [@poedator](https://www.kaggle.com/poedator) on Kaggle."
      ]
    },
    {
      "cell_type": "code",
      "metadata": {
        "id": "5aFxk3ommiXR",
        "colab_type": "code",
        "colab": {}
      },
      "source": [
        "%tensorflow_version 2.x"
      ],
      "execution_count": 0,
      "outputs": []
    },
    {
      "cell_type": "code",
      "metadata": {
        "id": "eIsWFgxXmmhh",
        "colab_type": "code",
        "colab": {}
      },
      "source": [
        "import numpy as np\n",
        "import pandas as pd\n",
        "import matplotlib.pyplot as plt\n",
        "import tensorflow as tf\n",
        "from  datetime import datetime, timedelta\n",
        "import gc\n",
        "import lightgbm as lgb"
      ],
      "execution_count": 0,
      "outputs": []
    },
    {
      "cell_type": "markdown",
      "metadata": {
        "id": "O_utGwkpoJKk",
        "colab_type": "text"
      },
      "source": [
        "### Load data and set data types"
      ]
    },
    {
      "cell_type": "code",
      "metadata": {
        "id": "I8q4snvcmFIt",
        "colab_type": "code",
        "colab": {}
      },
      "source": [
        "CAL_DTYPES={\"event_name_1\": \"category\", \"event_name_2\": \"category\", \"event_type_1\": \"category\", \n",
        "         \"event_type_2\": \"category\", \"weekday\": \"category\", 'wm_yr_wk': 'int16', \"wday\": \"int16\",\n",
        "        \"month\": \"int16\", \"year\": \"int16\", \"snap_CA\": \"float32\", 'snap_TX': 'float32', 'snap_WI': 'float32' }\n",
        "PRICE_DTYPES = {\"store_id\": \"category\", \"item_id\": \"category\", \"wm_yr_wk\": \"int16\",\"sell_price\":\"float32\" }"
      ],
      "execution_count": 0,
      "outputs": []
    },
    {
      "cell_type": "code",
      "metadata": {
        "id": "nESUJOLPmFGA",
        "colab_type": "code",
        "colab": {}
      },
      "source": [
        "h = 28 \n",
        "max_lags = 57\n",
        "tr_last = 1913\n",
        "fday = datetime(2016,4, 25) \n",
        "fday"
      ],
      "execution_count": 0,
      "outputs": []
    },
    {
      "cell_type": "code",
      "metadata": {
        "id": "eQ2pan8BmFDg",
        "colab_type": "code",
        "colab": {}
      },
      "source": [
        "def create_dt(is_train = True, nrows = None, first_day = 1200):\n",
        "    prices = pd.read_csv(\"../input/m5-forecasting-accuracy/sell_prices.csv\", dtype = PRICE_DTYPES)\n",
        "    for col, col_dtype in PRICE_DTYPES.items():\n",
        "        if col_dtype == \"category\":\n",
        "            prices[col] = prices[col].cat.codes.astype(\"int16\")\n",
        "            prices[col] -= prices[col].min()\n",
        "            \n",
        "    cal = pd.read_csv(\"../input/m5-forecasting-accuracy/calendar.csv\", dtype = CAL_DTYPES)\n",
        "    cal[\"date\"] = pd.to_datetime(cal[\"date\"])\n",
        "    for col, col_dtype in CAL_DTYPES.items():\n",
        "        if col_dtype == \"category\":\n",
        "            cal[col] = cal[col].cat.codes.astype(\"int16\")\n",
        "            cal[col] -= cal[col].min()\n",
        "    \n",
        "    start_day = max(1 if is_train  else tr_last-max_lags, first_day)\n",
        "    numcols = [f\"d_{day}\" for day in range(start_day,tr_last+1)]\n",
        "    catcols = ['id', 'item_id', 'dept_id','store_id', 'cat_id', 'state_id']\n",
        "    dtype = {numcol:\"float32\" for numcol in numcols} \n",
        "    dtype.update({col: \"category\" for col in catcols if col != \"id\"})\n",
        "    dt = pd.read_csv(\"../input/m5-forecasting-accuracy/sales_train_validation.csv\", \n",
        "                     nrows = nrows, usecols = catcols + numcols, dtype = dtype)\n",
        "    \n",
        "    for col in catcols:\n",
        "        if col != \"id\":\n",
        "            dt[col] = dt[col].cat.codes.astype(\"int16\")\n",
        "            dt[col] -= dt[col].min()\n",
        "    \n",
        "    if not is_train:\n",
        "        for day in range(tr_last+1, tr_last+ 28 +1):\n",
        "            dt[f\"d_{day}\"] = np.nan\n",
        "    \n",
        "    dt = pd.melt(dt,\n",
        "                  id_vars = catcols,\n",
        "                  value_vars = [col for col in dt.columns if col.startswith(\"d_\")],\n",
        "                  var_name = \"d\",\n",
        "                  value_name = \"sales\")\n",
        "    \n",
        "    dt = dt.merge(cal, on= \"d\", copy = False)\n",
        "    dt = dt.merge(prices, on = [\"store_id\", \"item_id\", \"wm_yr_wk\"], copy = False)\n",
        "    \n",
        "    return dt"
      ],
      "execution_count": 0,
      "outputs": []
    },
    {
      "cell_type": "code",
      "metadata": {
        "id": "KtPO44yvmFAx",
        "colab_type": "code",
        "colab": {}
      },
      "source": [
        "def create_fea(dt):\n",
        "    lags = [7, 28]\n",
        "    lag_cols = [f\"lag_{lag}\" for lag in lags ]\n",
        "    for lag, lag_col in zip(lags, lag_cols):\n",
        "        dt[lag_col] = dt[[\"id\",\"sales\"]].groupby(\"id\")[\"sales\"].shift(lag)\n",
        "\n",
        "    wins = [7, 28]\n",
        "    for win in wins :\n",
        "        for lag,lag_col in zip(lags, lag_cols):\n",
        "            dt[f\"rmean_{lag}_{win}\"] = dt[[\"id\", lag_col]].groupby(\"id\")[lag_col].transform(lambda x : x.rolling(win).mean())\n",
        "\n",
        "    \n",
        "    \n",
        "    date_features = {\n",
        "        \n",
        "        \"wday\": \"weekday\",\n",
        "        \"week\": \"weekofyear\",\n",
        "        \"month\": \"month\",\n",
        "        \"quarter\": \"quarter\",\n",
        "        \"year\": \"year\",\n",
        "        \"mday\": \"day\",\n",
        "#         \"ime\": \"is_month_end\",\n",
        "#         \"ims\": \"is_month_start\",\n",
        "    }\n",
        "    \n",
        "#     dt.drop([\"d\", \"wm_yr_wk\", \"weekday\"], axis=1, inplace = True)\n",
        "    \n",
        "    for date_feat_name, date_feat_func in date_features.items():\n",
        "        if date_feat_name in dt.columns:\n",
        "            dt[date_feat_name] = dt[date_feat_name].astype(\"int16\")\n",
        "        else:\n",
        "            dt[date_feat_name] = getattr(dt[\"date\"].dt, date_feat_func).astype(\"int16\")"
      ],
      "execution_count": 0,
      "outputs": []
    },
    {
      "cell_type": "code",
      "metadata": {
        "id": "6auo28qSmE7V",
        "colab_type": "code",
        "colab": {}
      },
      "source": [
        ""
      ],
      "execution_count": 0,
      "outputs": []
    },
    {
      "cell_type": "code",
      "metadata": {
        "id": "V2P6GtVDmE4P",
        "colab_type": "code",
        "colab": {}
      },
      "source": [
        ""
      ],
      "execution_count": 0,
      "outputs": []
    },
    {
      "cell_type": "code",
      "metadata": {
        "id": "ZYRyeXTFmE1o",
        "colab_type": "code",
        "colab": {}
      },
      "source": [
        ""
      ],
      "execution_count": 0,
      "outputs": []
    },
    {
      "cell_type": "code",
      "metadata": {
        "id": "ShhtF4GVmEwS",
        "colab_type": "code",
        "colab": {}
      },
      "source": [
        ""
      ],
      "execution_count": 0,
      "outputs": []
    },
    {
      "cell_type": "code",
      "metadata": {
        "id": "BgcUV24UmEts",
        "colab_type": "code",
        "colab": {}
      },
      "source": [
        ""
      ],
      "execution_count": 0,
      "outputs": []
    },
    {
      "cell_type": "code",
      "metadata": {
        "id": "IeI_grzsmEq_",
        "colab_type": "code",
        "colab": {}
      },
      "source": [
        ""
      ],
      "execution_count": 0,
      "outputs": []
    },
    {
      "cell_type": "code",
      "metadata": {
        "id": "0cid9U6qmEoI",
        "colab_type": "code",
        "colab": {}
      },
      "source": [
        ""
      ],
      "execution_count": 0,
      "outputs": []
    },
    {
      "cell_type": "code",
      "metadata": {
        "id": "CeKwWS6_mElg",
        "colab_type": "code",
        "colab": {}
      },
      "source": [
        ""
      ],
      "execution_count": 0,
      "outputs": []
    },
    {
      "cell_type": "code",
      "metadata": {
        "id": "x0lLCIQ7mEix",
        "colab_type": "code",
        "colab": {}
      },
      "source": [
        ""
      ],
      "execution_count": 0,
      "outputs": []
    },
    {
      "cell_type": "code",
      "metadata": {
        "id": "LPFRc9HwmEgL",
        "colab_type": "code",
        "colab": {}
      },
      "source": [
        ""
      ],
      "execution_count": 0,
      "outputs": []
    },
    {
      "cell_type": "code",
      "metadata": {
        "id": "3IwUMCQlmEdm",
        "colab_type": "code",
        "colab": {}
      },
      "source": [
        ""
      ],
      "execution_count": 0,
      "outputs": []
    },
    {
      "cell_type": "code",
      "metadata": {
        "id": "Poh8eaV7mEaw",
        "colab_type": "code",
        "colab": {}
      },
      "source": [
        ""
      ],
      "execution_count": 0,
      "outputs": []
    },
    {
      "cell_type": "code",
      "metadata": {
        "id": "8SUhjSjLmED9",
        "colab_type": "code",
        "colab": {}
      },
      "source": [
        ""
      ],
      "execution_count": 0,
      "outputs": []
    }
  ]
}