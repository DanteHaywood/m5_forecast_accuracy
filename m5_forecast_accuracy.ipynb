{
  "nbformat": 4,
  "nbformat_minor": 0,
  "metadata": {
    "colab": {
      "name": "m5_forecast_accuracy.ipynb",
      "provenance": [],
      "collapsed_sections": [],
      "machine_shape": "hm"
    },
    "kernelspec": {
      "name": "python3",
      "display_name": "Python 3"
    }
  },
  "cells": [
    {
      "cell_type": "markdown",
      "metadata": {
        "id": "DnMSbVcglFPx",
        "colab_type": "text"
      },
      "source": [
        "## M5 Forecast Competition - Accuracy\n",
        "\n",
        "This notebook is a product for submission into the [M5 Forecast Competition](https://www.kaggle.com/c/m5-forecasting-accuracy) with more information from the organizer, [MOFC](https://mofc.unic.ac.cy/m5-competition/). The ultimate goal of the competition is \"... to advance the theory of forecasting and improve its utilization by business and non-profit organizations\"."
      ]
    },
    {
      "cell_type": "markdown",
      "metadata": {
        "id": "yFikW_gxmzKl",
        "colab_type": "text"
      },
      "source": [
        "### Credits\n",
        "\n",
        "This first section of this notebook creating a cleaned dataframe is based off [M5 under-0.50 optimized](https://www.kaggle.com/poedator/m5-under-0-50-optimized) by [@poedator](https://www.kaggle.com/poedator) on Kaggle."
      ]
    },
    {
      "cell_type": "code",
      "metadata": {
        "id": "5aFxk3ommiXR",
        "colab_type": "code",
        "colab": {}
      },
      "source": [
        "%tensorflow_version 2.x"
      ],
      "execution_count": 0,
      "outputs": []
    },
    {
      "cell_type": "code",
      "metadata": {
        "id": "eIsWFgxXmmhh",
        "colab_type": "code",
        "colab": {
          "base_uri": "https://localhost:8080/",
          "height": 107
        },
        "outputId": "b8268b51-6b9f-427e-dd25-cf37e4578241"
      },
      "source": [
        "import numpy as np\n",
        "import pandas as pd\n",
        "import matplotlib.pyplot as plt\n",
        "import tensorflow as tf\n",
        "from  datetime import datetime, timedelta\n",
        "import gc\n",
        "import lightgbm as lgb\n",
        "import seaborn as sns\n",
        "sns.set(style=\"whitegrid\")\n",
        "plt.figure(figsize=[16,12])"
      ],
      "execution_count": 2,
      "outputs": [
        {
          "output_type": "stream",
          "text": [
            "/usr/local/lib/python3.6/dist-packages/statsmodels/tools/_testing.py:19: FutureWarning: pandas.util.testing is deprecated. Use the functions in the public API at pandas.testing instead.\n",
            "  import pandas.util.testing as tm\n"
          ],
          "name": "stderr"
        },
        {
          "output_type": "execute_result",
          "data": {
            "text/plain": [
              "<Figure size 1152x864 with 0 Axes>"
            ]
          },
          "metadata": {
            "tags": []
          },
          "execution_count": 2
        },
        {
          "output_type": "display_data",
          "data": {
            "text/plain": [
              "<Figure size 1152x864 with 0 Axes>"
            ]
          },
          "metadata": {
            "tags": []
          }
        }
      ]
    },
    {
      "cell_type": "markdown",
      "metadata": {
        "id": "-iCkD2Xeo9uj",
        "colab_type": "text"
      },
      "source": [
        "# Section 1: Load Data and Benchmark"
      ]
    },
    {
      "cell_type": "markdown",
      "metadata": {
        "id": "O_utGwkpoJKk",
        "colab_type": "text"
      },
      "source": [
        "### 1A: Load data and set data types"
      ]
    },
    {
      "cell_type": "code",
      "metadata": {
        "id": "I8q4snvcmFIt",
        "colab_type": "code",
        "colab": {}
      },
      "source": [
        "CAL_DTYPES = {\"event_name_1\": \"category\", \"event_name_2\": \"category\", \"event_type_1\": \"category\", \n",
        "         \"event_type_2\": \"category\", \"weekday\": \"category\", 'wm_yr_wk': 'int16', \"wday\": \"int16\",\n",
        "        \"month\": \"int16\", \"year\": \"int16\", \"snap_CA\": \"float32\", 'snap_TX': 'float32', 'snap_WI': 'float32' }\n",
        "PRICE_DTYPES = {\"store_id\": \"category\", \"item_id\": \"category\", \"wm_yr_wk\": \"int16\",\"sell_price\":\"float32\" }"
      ],
      "execution_count": 0,
      "outputs": []
    },
    {
      "cell_type": "code",
      "metadata": {
        "id": "nESUJOLPmFGA",
        "colab_type": "code",
        "outputId": "e859da3e-7fea-44b7-95e8-a3cc70758f96",
        "colab": {
          "base_uri": "https://localhost:8080/",
          "height": 34
        }
      },
      "source": [
        "h = 28 \n",
        "max_lags = 57\n",
        "tr_last = 1913\n",
        "fday = datetime(2016,4, 25) \n",
        "fday"
      ],
      "execution_count": 4,
      "outputs": [
        {
          "output_type": "execute_result",
          "data": {
            "text/plain": [
              "datetime.datetime(2016, 4, 25, 0, 0)"
            ]
          },
          "metadata": {
            "tags": []
          },
          "execution_count": 4
        }
      ]
    },
    {
      "cell_type": "code",
      "metadata": {
        "id": "eQ2pan8BmFDg",
        "colab_type": "code",
        "colab": {}
      },
      "source": [
        "def create_dt(is_train = True, nrows = None, first_day = 1200):\n",
        "    prices = pd.read_csv('drive/My Drive/m5_forecast_accuracy/sell_prices.csv', dtype = PRICE_DTYPES)\n",
        "    prices = reduce_mem_usage(prices)\n",
        "    for col, col_dtype in PRICE_DTYPES.items():\n",
        "        if col_dtype == \"category\":\n",
        "            prices[col] = prices[col].cat.codes.astype(\"int16\")\n",
        "            prices[col] -= prices[col].min()\n",
        "            \n",
        "    cal = pd.read_csv(\"drive/My Drive/m5_forecast_accuracy/calendar.csv\", dtype = CAL_DTYPES)\n",
        "    cal = reduce_mem_usage(cal)\n",
        "    cal[\"date\"] = pd.to_datetime(cal[\"date\"])\n",
        "    for col, col_dtype in CAL_DTYPES.items():\n",
        "        if col_dtype == \"category\":\n",
        "            cal[col] = cal[col].cat.codes.astype(\"int16\")\n",
        "            cal[col] -= cal[col].min()\n",
        "    \n",
        "    start_day = max(1 if is_train  else tr_last-max_lags, first_day)\n",
        "    numcols = [f\"d_{day}\" for day in range(start_day,tr_last+1)]\n",
        "    catcols = ['id', 'item_id', 'dept_id','store_id', 'cat_id', 'state_id']\n",
        "    dtype = {numcol:\"float32\" for numcol in numcols} \n",
        "    dtype.update({col: \"category\" for col in catcols if col != \"id\"})\n",
        "    dt = pd.read_csv(\"drive/My Drive/m5_forecast_accuracy/sales_train_validation.csv\", \n",
        "                     nrows = nrows, usecols = catcols + numcols, dtype = dtype)\n",
        "    \n",
        "    for col in catcols:\n",
        "        if col != \"id\":\n",
        "            dt[col] = dt[col].cat.codes.astype(\"int16\")\n",
        "            dt[col] -= dt[col].min()\n",
        "    \n",
        "    if not is_train:\n",
        "        for day in range(tr_last+1, tr_last+ 28 +1):\n",
        "            dt[f\"d_{day}\"] = np.nan\n",
        "    \n",
        "    dt = pd.melt(dt,\n",
        "                  id_vars = catcols,\n",
        "                  value_vars = [col for col in dt.columns if col.startswith(\"d_\")],\n",
        "                  var_name = \"d\",\n",
        "                  value_name = \"sales\")\n",
        "    \n",
        "    dt = dt.merge(cal, on= \"d\", copy = False)\n",
        "    dt = dt.merge(prices, on = [\"store_id\", \"item_id\", \"wm_yr_wk\"], copy = False)\n",
        "    \n",
        "    return dt"
      ],
      "execution_count": 0,
      "outputs": []
    },
    {
      "cell_type": "markdown",
      "metadata": {
        "id": "h4ytNNHnI1-Z",
        "colab_type": "text"
      },
      "source": [
        "Memory reduction function based on min and max of series credit to @hiroyuki_kageyama on Qiita:  [https://qiita.com/hiroyuki_kageyama/items/02865616811022f79754](https://qiita.com/hiroyuki_kageyama/items/02865616811022f79754)"
      ]
    },
    {
      "cell_type": "code",
      "metadata": {
        "id": "1sHpjzXlIyYt",
        "colab_type": "code",
        "colab": {}
      },
      "source": [
        "def reduce_mem_usage(df, verbose=True):\n",
        "    numerics = ['int16', 'int32', 'int64', 'float16', 'float32', 'float64']\n",
        "    start_mem = df.memory_usage().sum() / 1024**2    \n",
        "    for col in df.columns: #columns毎に処理\n",
        "        col_type = df[col].dtypes\n",
        "        if col_type in numerics: #numericsのデータ型の範囲内のときに処理を実行. データの最大最小値を元にデータ型を効率的なものに変更\n",
        "            c_min = df[col].min()\n",
        "            c_max = df[col].max()\n",
        "            if str(col_type)[:3] == 'int':\n",
        "                if c_min > np.iinfo(np.int8).min and c_max < np.iinfo(np.int8).max:\n",
        "                    df[col] = df[col].astype(np.int8)\n",
        "                elif c_min > np.iinfo(np.int16).min and c_max < np.iinfo(np.int16).max:\n",
        "                    df[col] = df[col].astype(np.int16)\n",
        "                elif c_min > np.iinfo(np.int32).min and c_max < np.iinfo(np.int32).max:\n",
        "                    df[col] = df[col].astype(np.int32)\n",
        "                elif c_min > np.iinfo(np.int64).min and c_max < np.iinfo(np.int64).max:\n",
        "                    df[col] = df[col].astype(np.int64)  \n",
        "            else:\n",
        "                if c_min > np.finfo(np.float16).min and c_max < np.finfo(np.float16).max:\n",
        "                    df[col] = df[col].astype(np.float16)\n",
        "                elif c_min > np.finfo(np.float32).min and c_max < np.finfo(np.float32).max:\n",
        "                    df[col] = df[col].astype(np.float32)\n",
        "                else:\n",
        "                    df[col] = df[col].astype(np.float64)    \n",
        "    end_mem = df.memory_usage().sum() / 1024**2\n",
        "    if verbose: print('Mem. usage decreased to {:5.2f} Mb ({:.1f}% reduction)'.format(end_mem, 100 * (start_mem - end_mem) / start_mem))\n",
        "    return df"
      ],
      "execution_count": 0,
      "outputs": []
    },
    {
      "cell_type": "code",
      "metadata": {
        "id": "KtPO44yvmFAx",
        "colab_type": "code",
        "colab": {}
      },
      "source": [
        "def create_fea(dt):\n",
        "    lags = [1, 7, 28]\n",
        "    lag_cols = [f\"lag_{lag}\" for lag in lags ]\n",
        "    for lag, lag_col in zip(lags, lag_cols):\n",
        "        dt[lag_col] = dt[[\"id\",\"sales\"]].groupby(\"id\")[\"sales\"].shift(lag)\n",
        "\n",
        "    wins = [1, 7, 28]\n",
        "    for win in wins :\n",
        "        for lag,lag_col in zip(lags, lag_cols):\n",
        "            dt[f\"rmean_{lag}_{win}\"] = dt[[\"id\", lag_col]].groupby(\"id\")[lag_col].transform(lambda x : x.rolling(win).mean())\n",
        "\n",
        "    \n",
        "    \n",
        "    date_features = {\n",
        "        \n",
        "        \"wday\": \"weekday\",\n",
        "        \"week\": \"weekofyear\",\n",
        "        \"month\": \"month\",\n",
        "        \"quarter\": \"quarter\",\n",
        "        \"year\": \"year\",\n",
        "        \"mday\": \"day\",\n",
        "#         \"ime\": \"is_month_end\",\n",
        "#         \"ims\": \"is_month_start\",\n",
        "    }\n",
        "    \n",
        "#     dt.drop([\"d\", \"wm_yr_wk\", \"weekday\"], axis=1, inplace = True)\n",
        "    \n",
        "    for date_feat_name, date_feat_func in date_features.items():\n",
        "        if date_feat_name in dt.columns:\n",
        "            dt[date_feat_name] = dt[date_feat_name].astype(\"int16\")\n",
        "        else:\n",
        "            dt[date_feat_name] = getattr(dt[\"date\"].dt, date_feat_func).astype(\"int16\")"
      ],
      "execution_count": 0,
      "outputs": []
    },
    {
      "cell_type": "code",
      "metadata": {
        "id": "6auo28qSmE7V",
        "colab_type": "code",
        "colab": {}
      },
      "source": [
        "FIRST_DAY = 1 # If you want to load all the data set it to '1' -->  Great  memory overflow  risk !"
      ],
      "execution_count": 0,
      "outputs": []
    },
    {
      "cell_type": "code",
      "metadata": {
        "id": "V2P6GtVDmE4P",
        "colab_type": "code",
        "outputId": "2281cb9c-d9d3-4008-dca1-7a4eeef01041",
        "colab": {
          "base_uri": "https://localhost:8080/",
          "height": 87
        }
      },
      "source": [
        "%%time\n",
        "df = create_dt(is_train=True, first_day= FIRST_DAY)\n",
        "df.shape"
      ],
      "execution_count": 9,
      "outputs": [
        {
          "output_type": "stream",
          "text": [
            "Mem. usage decreased to 45.77 Mb (22.2% reduction)\n",
            "Mem. usage decreased to  0.06 Mb (18.9% reduction)\n",
            "CPU times: user 33.8 s, sys: 5.07 s, total: 38.9 s\n",
            "Wall time: 41.5 s\n"
          ],
          "name": "stdout"
        }
      ]
    },
    {
      "cell_type": "code",
      "metadata": {
        "id": "ZYRyeXTFmE1o",
        "colab_type": "code",
        "outputId": "ef2cac70-74f6-42d3-b69a-9837e23a5abe",
        "colab": {
          "base_uri": "https://localhost:8080/",
          "height": 384
        }
      },
      "source": [
        "df.head()"
      ],
      "execution_count": 10,
      "outputs": [
        {
          "output_type": "execute_result",
          "data": {
            "text/html": [
              "<div>\n",
              "<style scoped>\n",
              "    .dataframe tbody tr th:only-of-type {\n",
              "        vertical-align: middle;\n",
              "    }\n",
              "\n",
              "    .dataframe tbody tr th {\n",
              "        vertical-align: top;\n",
              "    }\n",
              "\n",
              "    .dataframe thead th {\n",
              "        text-align: right;\n",
              "    }\n",
              "</style>\n",
              "<table border=\"1\" class=\"dataframe\">\n",
              "  <thead>\n",
              "    <tr style=\"text-align: right;\">\n",
              "      <th></th>\n",
              "      <th>id</th>\n",
              "      <th>item_id</th>\n",
              "      <th>dept_id</th>\n",
              "      <th>store_id</th>\n",
              "      <th>cat_id</th>\n",
              "      <th>state_id</th>\n",
              "      <th>d</th>\n",
              "      <th>sales</th>\n",
              "      <th>date</th>\n",
              "      <th>wm_yr_wk</th>\n",
              "      <th>weekday</th>\n",
              "      <th>wday</th>\n",
              "      <th>month</th>\n",
              "      <th>year</th>\n",
              "      <th>event_name_1</th>\n",
              "      <th>event_type_1</th>\n",
              "      <th>event_name_2</th>\n",
              "      <th>event_type_2</th>\n",
              "      <th>snap_CA</th>\n",
              "      <th>snap_TX</th>\n",
              "      <th>snap_WI</th>\n",
              "      <th>sell_price</th>\n",
              "    </tr>\n",
              "  </thead>\n",
              "  <tbody>\n",
              "    <tr>\n",
              "      <th>0</th>\n",
              "      <td>HOBBIES_1_008_CA_1_validation</td>\n",
              "      <td>7</td>\n",
              "      <td>0</td>\n",
              "      <td>0</td>\n",
              "      <td>0</td>\n",
              "      <td>0</td>\n",
              "      <td>d_1</td>\n",
              "      <td>12.0</td>\n",
              "      <td>2011-01-29</td>\n",
              "      <td>11101</td>\n",
              "      <td>2</td>\n",
              "      <td>1</td>\n",
              "      <td>1</td>\n",
              "      <td>2011</td>\n",
              "      <td>0</td>\n",
              "      <td>0</td>\n",
              "      <td>0</td>\n",
              "      <td>0</td>\n",
              "      <td>0.0</td>\n",
              "      <td>0.0</td>\n",
              "      <td>0.0</td>\n",
              "      <td>0.459961</td>\n",
              "    </tr>\n",
              "    <tr>\n",
              "      <th>1</th>\n",
              "      <td>HOBBIES_1_008_CA_1_validation</td>\n",
              "      <td>7</td>\n",
              "      <td>0</td>\n",
              "      <td>0</td>\n",
              "      <td>0</td>\n",
              "      <td>0</td>\n",
              "      <td>d_2</td>\n",
              "      <td>15.0</td>\n",
              "      <td>2011-01-30</td>\n",
              "      <td>11101</td>\n",
              "      <td>3</td>\n",
              "      <td>2</td>\n",
              "      <td>1</td>\n",
              "      <td>2011</td>\n",
              "      <td>0</td>\n",
              "      <td>0</td>\n",
              "      <td>0</td>\n",
              "      <td>0</td>\n",
              "      <td>0.0</td>\n",
              "      <td>0.0</td>\n",
              "      <td>0.0</td>\n",
              "      <td>0.459961</td>\n",
              "    </tr>\n",
              "    <tr>\n",
              "      <th>2</th>\n",
              "      <td>HOBBIES_1_008_CA_1_validation</td>\n",
              "      <td>7</td>\n",
              "      <td>0</td>\n",
              "      <td>0</td>\n",
              "      <td>0</td>\n",
              "      <td>0</td>\n",
              "      <td>d_3</td>\n",
              "      <td>0.0</td>\n",
              "      <td>2011-01-31</td>\n",
              "      <td>11101</td>\n",
              "      <td>1</td>\n",
              "      <td>3</td>\n",
              "      <td>1</td>\n",
              "      <td>2011</td>\n",
              "      <td>0</td>\n",
              "      <td>0</td>\n",
              "      <td>0</td>\n",
              "      <td>0</td>\n",
              "      <td>0.0</td>\n",
              "      <td>0.0</td>\n",
              "      <td>0.0</td>\n",
              "      <td>0.459961</td>\n",
              "    </tr>\n",
              "    <tr>\n",
              "      <th>3</th>\n",
              "      <td>HOBBIES_1_008_CA_1_validation</td>\n",
              "      <td>7</td>\n",
              "      <td>0</td>\n",
              "      <td>0</td>\n",
              "      <td>0</td>\n",
              "      <td>0</td>\n",
              "      <td>d_4</td>\n",
              "      <td>0.0</td>\n",
              "      <td>2011-02-01</td>\n",
              "      <td>11101</td>\n",
              "      <td>5</td>\n",
              "      <td>4</td>\n",
              "      <td>2</td>\n",
              "      <td>2011</td>\n",
              "      <td>0</td>\n",
              "      <td>0</td>\n",
              "      <td>0</td>\n",
              "      <td>0</td>\n",
              "      <td>1.0</td>\n",
              "      <td>1.0</td>\n",
              "      <td>0.0</td>\n",
              "      <td>0.459961</td>\n",
              "    </tr>\n",
              "    <tr>\n",
              "      <th>4</th>\n",
              "      <td>HOBBIES_1_008_CA_1_validation</td>\n",
              "      <td>7</td>\n",
              "      <td>0</td>\n",
              "      <td>0</td>\n",
              "      <td>0</td>\n",
              "      <td>0</td>\n",
              "      <td>d_5</td>\n",
              "      <td>0.0</td>\n",
              "      <td>2011-02-02</td>\n",
              "      <td>11101</td>\n",
              "      <td>6</td>\n",
              "      <td>5</td>\n",
              "      <td>2</td>\n",
              "      <td>2011</td>\n",
              "      <td>0</td>\n",
              "      <td>0</td>\n",
              "      <td>0</td>\n",
              "      <td>0</td>\n",
              "      <td>1.0</td>\n",
              "      <td>0.0</td>\n",
              "      <td>1.0</td>\n",
              "      <td>0.459961</td>\n",
              "    </tr>\n",
              "  </tbody>\n",
              "</table>\n",
              "</div>"
            ],
            "text/plain": [
              "                              id  item_id  ...  snap_WI  sell_price\n",
              "0  HOBBIES_1_008_CA_1_validation        7  ...      0.0    0.459961\n",
              "1  HOBBIES_1_008_CA_1_validation        7  ...      0.0    0.459961\n",
              "2  HOBBIES_1_008_CA_1_validation        7  ...      0.0    0.459961\n",
              "3  HOBBIES_1_008_CA_1_validation        7  ...      0.0    0.459961\n",
              "4  HOBBIES_1_008_CA_1_validation        7  ...      1.0    0.459961\n",
              "\n",
              "[5 rows x 22 columns]"
            ]
          },
          "metadata": {
            "tags": []
          },
          "execution_count": 10
        }
      ]
    },
    {
      "cell_type": "code",
      "metadata": {
        "id": "ShhtF4GVmEwS",
        "colab_type": "code",
        "outputId": "ef752e46-b0c4-43fb-efc5-decf6cf558c6",
        "colab": {
          "base_uri": "https://localhost:8080/",
          "height": 532
        }
      },
      "source": [
        "df.info()"
      ],
      "execution_count": 11,
      "outputs": [
        {
          "output_type": "stream",
          "text": [
            "<class 'pandas.core.frame.DataFrame'>\n",
            "Int64Index: 46027957 entries, 0 to 46027956\n",
            "Data columns (total 22 columns):\n",
            " #   Column        Dtype         \n",
            "---  ------        -----         \n",
            " 0   id            object        \n",
            " 1   item_id       int16         \n",
            " 2   dept_id       int16         \n",
            " 3   store_id      int16         \n",
            " 4   cat_id        int16         \n",
            " 5   state_id      int16         \n",
            " 6   d             object        \n",
            " 7   sales         float32       \n",
            " 8   date          datetime64[ns]\n",
            " 9   wm_yr_wk      int16         \n",
            " 10  weekday       int16         \n",
            " 11  wday          int8          \n",
            " 12  month         int8          \n",
            " 13  year          int16         \n",
            " 14  event_name_1  int16         \n",
            " 15  event_type_1  int16         \n",
            " 16  event_name_2  int16         \n",
            " 17  event_type_2  int16         \n",
            " 18  snap_CA       float16       \n",
            " 19  snap_TX       float16       \n",
            " 20  snap_WI       float16       \n",
            " 21  sell_price    float16       \n",
            "dtypes: datetime64[ns](1), float16(4), float32(1), int16(12), int8(2), object(2)\n",
            "memory usage: 3.0+ GB\n"
          ],
          "name": "stdout"
        }
      ]
    },
    {
      "cell_type": "code",
      "metadata": {
        "id": "BgcUV24UmEts",
        "colab_type": "code",
        "outputId": "ea3e0cf5-0b4b-4678-b46a-924205c06532",
        "colab": {
          "base_uri": "https://localhost:8080/",
          "height": 52
        }
      },
      "source": [
        "%%time\n",
        "\n",
        "create_fea(df)\n",
        "df.shape"
      ],
      "execution_count": 12,
      "outputs": [
        {
          "output_type": "stream",
          "text": [
            "CPU times: user 6min 35s, sys: 5.16 s, total: 6min 40s\n",
            "Wall time: 6min 40s\n"
          ],
          "name": "stdout"
        }
      ]
    },
    {
      "cell_type": "code",
      "metadata": {
        "id": "IeI_grzsmEq_",
        "colab_type": "code",
        "outputId": "c7288fb1-45ea-4556-c273-6d8be00be3a9",
        "colab": {
          "base_uri": "https://localhost:8080/",
          "height": 798
        }
      },
      "source": [
        "df.info()"
      ],
      "execution_count": 13,
      "outputs": [
        {
          "output_type": "stream",
          "text": [
            "<class 'pandas.core.frame.DataFrame'>\n",
            "Int64Index: 46027957 entries, 0 to 46027956\n",
            "Data columns (total 37 columns):\n",
            " #   Column        Dtype         \n",
            "---  ------        -----         \n",
            " 0   id            object        \n",
            " 1   item_id       int16         \n",
            " 2   dept_id       int16         \n",
            " 3   store_id      int16         \n",
            " 4   cat_id        int16         \n",
            " 5   state_id      int16         \n",
            " 6   d             object        \n",
            " 7   sales         float32       \n",
            " 8   date          datetime64[ns]\n",
            " 9   wm_yr_wk      int16         \n",
            " 10  weekday       int16         \n",
            " 11  wday          int16         \n",
            " 12  month         int16         \n",
            " 13  year          int16         \n",
            " 14  event_name_1  int16         \n",
            " 15  event_type_1  int16         \n",
            " 16  event_name_2  int16         \n",
            " 17  event_type_2  int16         \n",
            " 18  snap_CA       float16       \n",
            " 19  snap_TX       float16       \n",
            " 20  snap_WI       float16       \n",
            " 21  sell_price    float16       \n",
            " 22  lag_1         float32       \n",
            " 23  lag_7         float32       \n",
            " 24  lag_28        float32       \n",
            " 25  rmean_1_1     float32       \n",
            " 26  rmean_7_1     float32       \n",
            " 27  rmean_28_1    float32       \n",
            " 28  rmean_1_7     float32       \n",
            " 29  rmean_7_7     float32       \n",
            " 30  rmean_28_7    float32       \n",
            " 31  rmean_1_28    float32       \n",
            " 32  rmean_7_28    float32       \n",
            " 33  rmean_28_28   float32       \n",
            " 34  week          int16         \n",
            " 35  quarter       int16         \n",
            " 36  mday          int16         \n",
            "dtypes: datetime64[ns](1), float16(4), float32(13), int16(17), object(2)\n",
            "memory usage: 5.4+ GB\n"
          ],
          "name": "stdout"
        }
      ]
    },
    {
      "cell_type": "code",
      "metadata": {
        "id": "0cid9U6qmEoI",
        "colab_type": "code",
        "outputId": "04bd3cac-0e9d-4d9f-a3f6-bd723619953f",
        "colab": {
          "base_uri": "https://localhost:8080/",
          "height": 384
        }
      },
      "source": [
        "df.head()"
      ],
      "execution_count": 14,
      "outputs": [
        {
          "output_type": "execute_result",
          "data": {
            "text/html": [
              "<div>\n",
              "<style scoped>\n",
              "    .dataframe tbody tr th:only-of-type {\n",
              "        vertical-align: middle;\n",
              "    }\n",
              "\n",
              "    .dataframe tbody tr th {\n",
              "        vertical-align: top;\n",
              "    }\n",
              "\n",
              "    .dataframe thead th {\n",
              "        text-align: right;\n",
              "    }\n",
              "</style>\n",
              "<table border=\"1\" class=\"dataframe\">\n",
              "  <thead>\n",
              "    <tr style=\"text-align: right;\">\n",
              "      <th></th>\n",
              "      <th>id</th>\n",
              "      <th>item_id</th>\n",
              "      <th>dept_id</th>\n",
              "      <th>store_id</th>\n",
              "      <th>cat_id</th>\n",
              "      <th>state_id</th>\n",
              "      <th>d</th>\n",
              "      <th>sales</th>\n",
              "      <th>date</th>\n",
              "      <th>wm_yr_wk</th>\n",
              "      <th>weekday</th>\n",
              "      <th>wday</th>\n",
              "      <th>month</th>\n",
              "      <th>year</th>\n",
              "      <th>event_name_1</th>\n",
              "      <th>event_type_1</th>\n",
              "      <th>event_name_2</th>\n",
              "      <th>event_type_2</th>\n",
              "      <th>snap_CA</th>\n",
              "      <th>snap_TX</th>\n",
              "      <th>snap_WI</th>\n",
              "      <th>sell_price</th>\n",
              "      <th>lag_1</th>\n",
              "      <th>lag_7</th>\n",
              "      <th>lag_28</th>\n",
              "      <th>rmean_1_1</th>\n",
              "      <th>rmean_7_1</th>\n",
              "      <th>rmean_28_1</th>\n",
              "      <th>rmean_1_7</th>\n",
              "      <th>rmean_7_7</th>\n",
              "      <th>rmean_28_7</th>\n",
              "      <th>rmean_1_28</th>\n",
              "      <th>rmean_7_28</th>\n",
              "      <th>rmean_28_28</th>\n",
              "      <th>week</th>\n",
              "      <th>quarter</th>\n",
              "      <th>mday</th>\n",
              "    </tr>\n",
              "  </thead>\n",
              "  <tbody>\n",
              "    <tr>\n",
              "      <th>0</th>\n",
              "      <td>HOBBIES_1_008_CA_1_validation</td>\n",
              "      <td>7</td>\n",
              "      <td>0</td>\n",
              "      <td>0</td>\n",
              "      <td>0</td>\n",
              "      <td>0</td>\n",
              "      <td>d_1</td>\n",
              "      <td>12.0</td>\n",
              "      <td>2011-01-29</td>\n",
              "      <td>11101</td>\n",
              "      <td>2</td>\n",
              "      <td>1</td>\n",
              "      <td>1</td>\n",
              "      <td>2011</td>\n",
              "      <td>0</td>\n",
              "      <td>0</td>\n",
              "      <td>0</td>\n",
              "      <td>0</td>\n",
              "      <td>0.0</td>\n",
              "      <td>0.0</td>\n",
              "      <td>0.0</td>\n",
              "      <td>0.459961</td>\n",
              "      <td>NaN</td>\n",
              "      <td>NaN</td>\n",
              "      <td>NaN</td>\n",
              "      <td>NaN</td>\n",
              "      <td>NaN</td>\n",
              "      <td>NaN</td>\n",
              "      <td>NaN</td>\n",
              "      <td>NaN</td>\n",
              "      <td>NaN</td>\n",
              "      <td>NaN</td>\n",
              "      <td>NaN</td>\n",
              "      <td>NaN</td>\n",
              "      <td>4</td>\n",
              "      <td>1</td>\n",
              "      <td>29</td>\n",
              "    </tr>\n",
              "    <tr>\n",
              "      <th>1</th>\n",
              "      <td>HOBBIES_1_008_CA_1_validation</td>\n",
              "      <td>7</td>\n",
              "      <td>0</td>\n",
              "      <td>0</td>\n",
              "      <td>0</td>\n",
              "      <td>0</td>\n",
              "      <td>d_2</td>\n",
              "      <td>15.0</td>\n",
              "      <td>2011-01-30</td>\n",
              "      <td>11101</td>\n",
              "      <td>3</td>\n",
              "      <td>2</td>\n",
              "      <td>1</td>\n",
              "      <td>2011</td>\n",
              "      <td>0</td>\n",
              "      <td>0</td>\n",
              "      <td>0</td>\n",
              "      <td>0</td>\n",
              "      <td>0.0</td>\n",
              "      <td>0.0</td>\n",
              "      <td>0.0</td>\n",
              "      <td>0.459961</td>\n",
              "      <td>12.0</td>\n",
              "      <td>NaN</td>\n",
              "      <td>NaN</td>\n",
              "      <td>12.0</td>\n",
              "      <td>NaN</td>\n",
              "      <td>NaN</td>\n",
              "      <td>NaN</td>\n",
              "      <td>NaN</td>\n",
              "      <td>NaN</td>\n",
              "      <td>NaN</td>\n",
              "      <td>NaN</td>\n",
              "      <td>NaN</td>\n",
              "      <td>4</td>\n",
              "      <td>1</td>\n",
              "      <td>30</td>\n",
              "    </tr>\n",
              "    <tr>\n",
              "      <th>2</th>\n",
              "      <td>HOBBIES_1_008_CA_1_validation</td>\n",
              "      <td>7</td>\n",
              "      <td>0</td>\n",
              "      <td>0</td>\n",
              "      <td>0</td>\n",
              "      <td>0</td>\n",
              "      <td>d_3</td>\n",
              "      <td>0.0</td>\n",
              "      <td>2011-01-31</td>\n",
              "      <td>11101</td>\n",
              "      <td>1</td>\n",
              "      <td>3</td>\n",
              "      <td>1</td>\n",
              "      <td>2011</td>\n",
              "      <td>0</td>\n",
              "      <td>0</td>\n",
              "      <td>0</td>\n",
              "      <td>0</td>\n",
              "      <td>0.0</td>\n",
              "      <td>0.0</td>\n",
              "      <td>0.0</td>\n",
              "      <td>0.459961</td>\n",
              "      <td>15.0</td>\n",
              "      <td>NaN</td>\n",
              "      <td>NaN</td>\n",
              "      <td>15.0</td>\n",
              "      <td>NaN</td>\n",
              "      <td>NaN</td>\n",
              "      <td>NaN</td>\n",
              "      <td>NaN</td>\n",
              "      <td>NaN</td>\n",
              "      <td>NaN</td>\n",
              "      <td>NaN</td>\n",
              "      <td>NaN</td>\n",
              "      <td>5</td>\n",
              "      <td>1</td>\n",
              "      <td>31</td>\n",
              "    </tr>\n",
              "    <tr>\n",
              "      <th>3</th>\n",
              "      <td>HOBBIES_1_008_CA_1_validation</td>\n",
              "      <td>7</td>\n",
              "      <td>0</td>\n",
              "      <td>0</td>\n",
              "      <td>0</td>\n",
              "      <td>0</td>\n",
              "      <td>d_4</td>\n",
              "      <td>0.0</td>\n",
              "      <td>2011-02-01</td>\n",
              "      <td>11101</td>\n",
              "      <td>5</td>\n",
              "      <td>4</td>\n",
              "      <td>2</td>\n",
              "      <td>2011</td>\n",
              "      <td>0</td>\n",
              "      <td>0</td>\n",
              "      <td>0</td>\n",
              "      <td>0</td>\n",
              "      <td>1.0</td>\n",
              "      <td>1.0</td>\n",
              "      <td>0.0</td>\n",
              "      <td>0.459961</td>\n",
              "      <td>0.0</td>\n",
              "      <td>NaN</td>\n",
              "      <td>NaN</td>\n",
              "      <td>0.0</td>\n",
              "      <td>NaN</td>\n",
              "      <td>NaN</td>\n",
              "      <td>NaN</td>\n",
              "      <td>NaN</td>\n",
              "      <td>NaN</td>\n",
              "      <td>NaN</td>\n",
              "      <td>NaN</td>\n",
              "      <td>NaN</td>\n",
              "      <td>5</td>\n",
              "      <td>1</td>\n",
              "      <td>1</td>\n",
              "    </tr>\n",
              "    <tr>\n",
              "      <th>4</th>\n",
              "      <td>HOBBIES_1_008_CA_1_validation</td>\n",
              "      <td>7</td>\n",
              "      <td>0</td>\n",
              "      <td>0</td>\n",
              "      <td>0</td>\n",
              "      <td>0</td>\n",
              "      <td>d_5</td>\n",
              "      <td>0.0</td>\n",
              "      <td>2011-02-02</td>\n",
              "      <td>11101</td>\n",
              "      <td>6</td>\n",
              "      <td>5</td>\n",
              "      <td>2</td>\n",
              "      <td>2011</td>\n",
              "      <td>0</td>\n",
              "      <td>0</td>\n",
              "      <td>0</td>\n",
              "      <td>0</td>\n",
              "      <td>1.0</td>\n",
              "      <td>0.0</td>\n",
              "      <td>1.0</td>\n",
              "      <td>0.459961</td>\n",
              "      <td>0.0</td>\n",
              "      <td>NaN</td>\n",
              "      <td>NaN</td>\n",
              "      <td>0.0</td>\n",
              "      <td>NaN</td>\n",
              "      <td>NaN</td>\n",
              "      <td>NaN</td>\n",
              "      <td>NaN</td>\n",
              "      <td>NaN</td>\n",
              "      <td>NaN</td>\n",
              "      <td>NaN</td>\n",
              "      <td>NaN</td>\n",
              "      <td>5</td>\n",
              "      <td>1</td>\n",
              "      <td>2</td>\n",
              "    </tr>\n",
              "  </tbody>\n",
              "</table>\n",
              "</div>"
            ],
            "text/plain": [
              "                              id  item_id  dept_id  ...  week  quarter  mday\n",
              "0  HOBBIES_1_008_CA_1_validation        7        0  ...     4        1    29\n",
              "1  HOBBIES_1_008_CA_1_validation        7        0  ...     4        1    30\n",
              "2  HOBBIES_1_008_CA_1_validation        7        0  ...     5        1    31\n",
              "3  HOBBIES_1_008_CA_1_validation        7        0  ...     5        1     1\n",
              "4  HOBBIES_1_008_CA_1_validation        7        0  ...     5        1     2\n",
              "\n",
              "[5 rows x 37 columns]"
            ]
          },
          "metadata": {
            "tags": []
          },
          "execution_count": 14
        }
      ]
    },
    {
      "cell_type": "code",
      "metadata": {
        "id": "Noiuvpo-3niz",
        "colab_type": "code",
        "colab": {
          "base_uri": "https://localhost:8080/",
          "height": 593
        },
        "outputId": "3cfe3a88-152e-46ef-832f-e352beb68ae1"
      },
      "source": [
        "tsdf = df.loc[df.id == df.id[0]]\n",
        "ts = tsdf.sales\n",
        "tsdf"
      ],
      "execution_count": 15,
      "outputs": [
        {
          "output_type": "execute_result",
          "data": {
            "text/html": [
              "<div>\n",
              "<style scoped>\n",
              "    .dataframe tbody tr th:only-of-type {\n",
              "        vertical-align: middle;\n",
              "    }\n",
              "\n",
              "    .dataframe tbody tr th {\n",
              "        vertical-align: top;\n",
              "    }\n",
              "\n",
              "    .dataframe thead th {\n",
              "        text-align: right;\n",
              "    }\n",
              "</style>\n",
              "<table border=\"1\" class=\"dataframe\">\n",
              "  <thead>\n",
              "    <tr style=\"text-align: right;\">\n",
              "      <th></th>\n",
              "      <th>id</th>\n",
              "      <th>item_id</th>\n",
              "      <th>dept_id</th>\n",
              "      <th>store_id</th>\n",
              "      <th>cat_id</th>\n",
              "      <th>state_id</th>\n",
              "      <th>d</th>\n",
              "      <th>sales</th>\n",
              "      <th>date</th>\n",
              "      <th>wm_yr_wk</th>\n",
              "      <th>weekday</th>\n",
              "      <th>wday</th>\n",
              "      <th>month</th>\n",
              "      <th>year</th>\n",
              "      <th>event_name_1</th>\n",
              "      <th>event_type_1</th>\n",
              "      <th>event_name_2</th>\n",
              "      <th>event_type_2</th>\n",
              "      <th>snap_CA</th>\n",
              "      <th>snap_TX</th>\n",
              "      <th>snap_WI</th>\n",
              "      <th>sell_price</th>\n",
              "      <th>lag_1</th>\n",
              "      <th>lag_7</th>\n",
              "      <th>lag_28</th>\n",
              "      <th>rmean_1_1</th>\n",
              "      <th>rmean_7_1</th>\n",
              "      <th>rmean_28_1</th>\n",
              "      <th>rmean_1_7</th>\n",
              "      <th>rmean_7_7</th>\n",
              "      <th>rmean_28_7</th>\n",
              "      <th>rmean_1_28</th>\n",
              "      <th>rmean_7_28</th>\n",
              "      <th>rmean_28_28</th>\n",
              "      <th>week</th>\n",
              "      <th>quarter</th>\n",
              "      <th>mday</th>\n",
              "    </tr>\n",
              "  </thead>\n",
              "  <tbody>\n",
              "    <tr>\n",
              "      <th>0</th>\n",
              "      <td>HOBBIES_1_008_CA_1_validation</td>\n",
              "      <td>7</td>\n",
              "      <td>0</td>\n",
              "      <td>0</td>\n",
              "      <td>0</td>\n",
              "      <td>0</td>\n",
              "      <td>d_1</td>\n",
              "      <td>12.0</td>\n",
              "      <td>2011-01-29</td>\n",
              "      <td>11101</td>\n",
              "      <td>2</td>\n",
              "      <td>1</td>\n",
              "      <td>1</td>\n",
              "      <td>2011</td>\n",
              "      <td>0</td>\n",
              "      <td>0</td>\n",
              "      <td>0</td>\n",
              "      <td>0</td>\n",
              "      <td>0.0</td>\n",
              "      <td>0.0</td>\n",
              "      <td>0.0</td>\n",
              "      <td>0.459961</td>\n",
              "      <td>NaN</td>\n",
              "      <td>NaN</td>\n",
              "      <td>NaN</td>\n",
              "      <td>NaN</td>\n",
              "      <td>NaN</td>\n",
              "      <td>NaN</td>\n",
              "      <td>NaN</td>\n",
              "      <td>NaN</td>\n",
              "      <td>NaN</td>\n",
              "      <td>NaN</td>\n",
              "      <td>NaN</td>\n",
              "      <td>NaN</td>\n",
              "      <td>4</td>\n",
              "      <td>1</td>\n",
              "      <td>29</td>\n",
              "    </tr>\n",
              "    <tr>\n",
              "      <th>1</th>\n",
              "      <td>HOBBIES_1_008_CA_1_validation</td>\n",
              "      <td>7</td>\n",
              "      <td>0</td>\n",
              "      <td>0</td>\n",
              "      <td>0</td>\n",
              "      <td>0</td>\n",
              "      <td>d_2</td>\n",
              "      <td>15.0</td>\n",
              "      <td>2011-01-30</td>\n",
              "      <td>11101</td>\n",
              "      <td>3</td>\n",
              "      <td>2</td>\n",
              "      <td>1</td>\n",
              "      <td>2011</td>\n",
              "      <td>0</td>\n",
              "      <td>0</td>\n",
              "      <td>0</td>\n",
              "      <td>0</td>\n",
              "      <td>0.0</td>\n",
              "      <td>0.0</td>\n",
              "      <td>0.0</td>\n",
              "      <td>0.459961</td>\n",
              "      <td>12.0</td>\n",
              "      <td>NaN</td>\n",
              "      <td>NaN</td>\n",
              "      <td>12.0</td>\n",
              "      <td>NaN</td>\n",
              "      <td>NaN</td>\n",
              "      <td>NaN</td>\n",
              "      <td>NaN</td>\n",
              "      <td>NaN</td>\n",
              "      <td>NaN</td>\n",
              "      <td>NaN</td>\n",
              "      <td>NaN</td>\n",
              "      <td>4</td>\n",
              "      <td>1</td>\n",
              "      <td>30</td>\n",
              "    </tr>\n",
              "    <tr>\n",
              "      <th>2</th>\n",
              "      <td>HOBBIES_1_008_CA_1_validation</td>\n",
              "      <td>7</td>\n",
              "      <td>0</td>\n",
              "      <td>0</td>\n",
              "      <td>0</td>\n",
              "      <td>0</td>\n",
              "      <td>d_3</td>\n",
              "      <td>0.0</td>\n",
              "      <td>2011-01-31</td>\n",
              "      <td>11101</td>\n",
              "      <td>1</td>\n",
              "      <td>3</td>\n",
              "      <td>1</td>\n",
              "      <td>2011</td>\n",
              "      <td>0</td>\n",
              "      <td>0</td>\n",
              "      <td>0</td>\n",
              "      <td>0</td>\n",
              "      <td>0.0</td>\n",
              "      <td>0.0</td>\n",
              "      <td>0.0</td>\n",
              "      <td>0.459961</td>\n",
              "      <td>15.0</td>\n",
              "      <td>NaN</td>\n",
              "      <td>NaN</td>\n",
              "      <td>15.0</td>\n",
              "      <td>NaN</td>\n",
              "      <td>NaN</td>\n",
              "      <td>NaN</td>\n",
              "      <td>NaN</td>\n",
              "      <td>NaN</td>\n",
              "      <td>NaN</td>\n",
              "      <td>NaN</td>\n",
              "      <td>NaN</td>\n",
              "      <td>5</td>\n",
              "      <td>1</td>\n",
              "      <td>31</td>\n",
              "    </tr>\n",
              "    <tr>\n",
              "      <th>3</th>\n",
              "      <td>HOBBIES_1_008_CA_1_validation</td>\n",
              "      <td>7</td>\n",
              "      <td>0</td>\n",
              "      <td>0</td>\n",
              "      <td>0</td>\n",
              "      <td>0</td>\n",
              "      <td>d_4</td>\n",
              "      <td>0.0</td>\n",
              "      <td>2011-02-01</td>\n",
              "      <td>11101</td>\n",
              "      <td>5</td>\n",
              "      <td>4</td>\n",
              "      <td>2</td>\n",
              "      <td>2011</td>\n",
              "      <td>0</td>\n",
              "      <td>0</td>\n",
              "      <td>0</td>\n",
              "      <td>0</td>\n",
              "      <td>1.0</td>\n",
              "      <td>1.0</td>\n",
              "      <td>0.0</td>\n",
              "      <td>0.459961</td>\n",
              "      <td>0.0</td>\n",
              "      <td>NaN</td>\n",
              "      <td>NaN</td>\n",
              "      <td>0.0</td>\n",
              "      <td>NaN</td>\n",
              "      <td>NaN</td>\n",
              "      <td>NaN</td>\n",
              "      <td>NaN</td>\n",
              "      <td>NaN</td>\n",
              "      <td>NaN</td>\n",
              "      <td>NaN</td>\n",
              "      <td>NaN</td>\n",
              "      <td>5</td>\n",
              "      <td>1</td>\n",
              "      <td>1</td>\n",
              "    </tr>\n",
              "    <tr>\n",
              "      <th>4</th>\n",
              "      <td>HOBBIES_1_008_CA_1_validation</td>\n",
              "      <td>7</td>\n",
              "      <td>0</td>\n",
              "      <td>0</td>\n",
              "      <td>0</td>\n",
              "      <td>0</td>\n",
              "      <td>d_5</td>\n",
              "      <td>0.0</td>\n",
              "      <td>2011-02-02</td>\n",
              "      <td>11101</td>\n",
              "      <td>6</td>\n",
              "      <td>5</td>\n",
              "      <td>2</td>\n",
              "      <td>2011</td>\n",
              "      <td>0</td>\n",
              "      <td>0</td>\n",
              "      <td>0</td>\n",
              "      <td>0</td>\n",
              "      <td>1.0</td>\n",
              "      <td>0.0</td>\n",
              "      <td>1.0</td>\n",
              "      <td>0.459961</td>\n",
              "      <td>0.0</td>\n",
              "      <td>NaN</td>\n",
              "      <td>NaN</td>\n",
              "      <td>0.0</td>\n",
              "      <td>NaN</td>\n",
              "      <td>NaN</td>\n",
              "      <td>NaN</td>\n",
              "      <td>NaN</td>\n",
              "      <td>NaN</td>\n",
              "      <td>NaN</td>\n",
              "      <td>NaN</td>\n",
              "      <td>NaN</td>\n",
              "      <td>5</td>\n",
              "      <td>1</td>\n",
              "      <td>2</td>\n",
              "    </tr>\n",
              "    <tr>\n",
              "      <th>...</th>\n",
              "      <td>...</td>\n",
              "      <td>...</td>\n",
              "      <td>...</td>\n",
              "      <td>...</td>\n",
              "      <td>...</td>\n",
              "      <td>...</td>\n",
              "      <td>...</td>\n",
              "      <td>...</td>\n",
              "      <td>...</td>\n",
              "      <td>...</td>\n",
              "      <td>...</td>\n",
              "      <td>...</td>\n",
              "      <td>...</td>\n",
              "      <td>...</td>\n",
              "      <td>...</td>\n",
              "      <td>...</td>\n",
              "      <td>...</td>\n",
              "      <td>...</td>\n",
              "      <td>...</td>\n",
              "      <td>...</td>\n",
              "      <td>...</td>\n",
              "      <td>...</td>\n",
              "      <td>...</td>\n",
              "      <td>...</td>\n",
              "      <td>...</td>\n",
              "      <td>...</td>\n",
              "      <td>...</td>\n",
              "      <td>...</td>\n",
              "      <td>...</td>\n",
              "      <td>...</td>\n",
              "      <td>...</td>\n",
              "      <td>...</td>\n",
              "      <td>...</td>\n",
              "      <td>...</td>\n",
              "      <td>...</td>\n",
              "      <td>...</td>\n",
              "      <td>...</td>\n",
              "    </tr>\n",
              "    <tr>\n",
              "      <th>45753600</th>\n",
              "      <td>HOBBIES_1_008_CA_1_validation</td>\n",
              "      <td>7</td>\n",
              "      <td>0</td>\n",
              "      <td>0</td>\n",
              "      <td>0</td>\n",
              "      <td>0</td>\n",
              "      <td>d_1909</td>\n",
              "      <td>4.0</td>\n",
              "      <td>2016-04-20</td>\n",
              "      <td>11612</td>\n",
              "      <td>6</td>\n",
              "      <td>5</td>\n",
              "      <td>4</td>\n",
              "      <td>2016</td>\n",
              "      <td>0</td>\n",
              "      <td>0</td>\n",
              "      <td>0</td>\n",
              "      <td>0</td>\n",
              "      <td>0.0</td>\n",
              "      <td>0.0</td>\n",
              "      <td>0.0</td>\n",
              "      <td>0.479980</td>\n",
              "      <td>3.0</td>\n",
              "      <td>8.0</td>\n",
              "      <td>10.0</td>\n",
              "      <td>3.0</td>\n",
              "      <td>8.0</td>\n",
              "      <td>10.0</td>\n",
              "      <td>7.571429</td>\n",
              "      <td>9.285714</td>\n",
              "      <td>7.571429</td>\n",
              "      <td>8.000000</td>\n",
              "      <td>7.928571</td>\n",
              "      <td>6.178571</td>\n",
              "      <td>16</td>\n",
              "      <td>2</td>\n",
              "      <td>20</td>\n",
              "    </tr>\n",
              "    <tr>\n",
              "      <th>45753601</th>\n",
              "      <td>HOBBIES_1_008_CA_1_validation</td>\n",
              "      <td>7</td>\n",
              "      <td>0</td>\n",
              "      <td>0</td>\n",
              "      <td>0</td>\n",
              "      <td>0</td>\n",
              "      <td>d_1910</td>\n",
              "      <td>6.0</td>\n",
              "      <td>2016-04-21</td>\n",
              "      <td>11612</td>\n",
              "      <td>4</td>\n",
              "      <td>6</td>\n",
              "      <td>4</td>\n",
              "      <td>2016</td>\n",
              "      <td>0</td>\n",
              "      <td>0</td>\n",
              "      <td>0</td>\n",
              "      <td>0</td>\n",
              "      <td>0.0</td>\n",
              "      <td>0.0</td>\n",
              "      <td>0.0</td>\n",
              "      <td>0.479980</td>\n",
              "      <td>4.0</td>\n",
              "      <td>4.0</td>\n",
              "      <td>2.0</td>\n",
              "      <td>4.0</td>\n",
              "      <td>4.0</td>\n",
              "      <td>2.0</td>\n",
              "      <td>7.000000</td>\n",
              "      <td>6.142857</td>\n",
              "      <td>7.857143</td>\n",
              "      <td>7.785714</td>\n",
              "      <td>8.071428</td>\n",
              "      <td>6.107143</td>\n",
              "      <td>16</td>\n",
              "      <td>2</td>\n",
              "      <td>21</td>\n",
              "    </tr>\n",
              "    <tr>\n",
              "      <th>45753602</th>\n",
              "      <td>HOBBIES_1_008_CA_1_validation</td>\n",
              "      <td>7</td>\n",
              "      <td>0</td>\n",
              "      <td>0</td>\n",
              "      <td>0</td>\n",
              "      <td>0</td>\n",
              "      <td>d_1911</td>\n",
              "      <td>3.0</td>\n",
              "      <td>2016-04-22</td>\n",
              "      <td>11612</td>\n",
              "      <td>0</td>\n",
              "      <td>7</td>\n",
              "      <td>4</td>\n",
              "      <td>2016</td>\n",
              "      <td>0</td>\n",
              "      <td>0</td>\n",
              "      <td>0</td>\n",
              "      <td>0</td>\n",
              "      <td>0.0</td>\n",
              "      <td>0.0</td>\n",
              "      <td>0.0</td>\n",
              "      <td>0.479980</td>\n",
              "      <td>6.0</td>\n",
              "      <td>0.0</td>\n",
              "      <td>0.0</td>\n",
              "      <td>6.0</td>\n",
              "      <td>0.0</td>\n",
              "      <td>0.0</td>\n",
              "      <td>7.285714</td>\n",
              "      <td>5.000000</td>\n",
              "      <td>5.428571</td>\n",
              "      <td>7.928571</td>\n",
              "      <td>7.464286</td>\n",
              "      <td>5.678571</td>\n",
              "      <td>16</td>\n",
              "      <td>2</td>\n",
              "      <td>22</td>\n",
              "    </tr>\n",
              "    <tr>\n",
              "      <th>45966991</th>\n",
              "      <td>HOBBIES_1_008_CA_1_validation</td>\n",
              "      <td>7</td>\n",
              "      <td>0</td>\n",
              "      <td>0</td>\n",
              "      <td>0</td>\n",
              "      <td>0</td>\n",
              "      <td>d_1912</td>\n",
              "      <td>2.0</td>\n",
              "      <td>2016-04-23</td>\n",
              "      <td>11613</td>\n",
              "      <td>2</td>\n",
              "      <td>1</td>\n",
              "      <td>4</td>\n",
              "      <td>2016</td>\n",
              "      <td>0</td>\n",
              "      <td>0</td>\n",
              "      <td>0</td>\n",
              "      <td>0</td>\n",
              "      <td>0.0</td>\n",
              "      <td>0.0</td>\n",
              "      <td>0.0</td>\n",
              "      <td>0.479980</td>\n",
              "      <td>3.0</td>\n",
              "      <td>0.0</td>\n",
              "      <td>0.0</td>\n",
              "      <td>3.0</td>\n",
              "      <td>0.0</td>\n",
              "      <td>0.0</td>\n",
              "      <td>7.714286</td>\n",
              "      <td>3.285714</td>\n",
              "      <td>3.857143</td>\n",
              "      <td>8.035714</td>\n",
              "      <td>7.071429</td>\n",
              "      <td>5.071429</td>\n",
              "      <td>16</td>\n",
              "      <td>2</td>\n",
              "      <td>23</td>\n",
              "    </tr>\n",
              "    <tr>\n",
              "      <th>45966992</th>\n",
              "      <td>HOBBIES_1_008_CA_1_validation</td>\n",
              "      <td>7</td>\n",
              "      <td>0</td>\n",
              "      <td>0</td>\n",
              "      <td>0</td>\n",
              "      <td>0</td>\n",
              "      <td>d_1913</td>\n",
              "      <td>1.0</td>\n",
              "      <td>2016-04-24</td>\n",
              "      <td>11613</td>\n",
              "      <td>3</td>\n",
              "      <td>2</td>\n",
              "      <td>4</td>\n",
              "      <td>2016</td>\n",
              "      <td>0</td>\n",
              "      <td>0</td>\n",
              "      <td>0</td>\n",
              "      <td>0</td>\n",
              "      <td>0.0</td>\n",
              "      <td>0.0</td>\n",
              "      <td>0.0</td>\n",
              "      <td>0.479980</td>\n",
              "      <td>2.0</td>\n",
              "      <td>1.0</td>\n",
              "      <td>0.0</td>\n",
              "      <td>2.0</td>\n",
              "      <td>1.0</td>\n",
              "      <td>0.0</td>\n",
              "      <td>8.000000</td>\n",
              "      <td>2.857143</td>\n",
              "      <td>3.857143</td>\n",
              "      <td>8.107142</td>\n",
              "      <td>7.107143</td>\n",
              "      <td>5.071429</td>\n",
              "      <td>16</td>\n",
              "      <td>2</td>\n",
              "      <td>24</td>\n",
              "    </tr>\n",
              "  </tbody>\n",
              "</table>\n",
              "<p>1913 rows × 37 columns</p>\n",
              "</div>"
            ],
            "text/plain": [
              "                                     id  item_id  dept_id  ...  week  quarter  mday\n",
              "0         HOBBIES_1_008_CA_1_validation        7        0  ...     4        1    29\n",
              "1         HOBBIES_1_008_CA_1_validation        7        0  ...     4        1    30\n",
              "2         HOBBIES_1_008_CA_1_validation        7        0  ...     5        1    31\n",
              "3         HOBBIES_1_008_CA_1_validation        7        0  ...     5        1     1\n",
              "4         HOBBIES_1_008_CA_1_validation        7        0  ...     5        1     2\n",
              "...                                 ...      ...      ...  ...   ...      ...   ...\n",
              "45753600  HOBBIES_1_008_CA_1_validation        7        0  ...    16        2    20\n",
              "45753601  HOBBIES_1_008_CA_1_validation        7        0  ...    16        2    21\n",
              "45753602  HOBBIES_1_008_CA_1_validation        7        0  ...    16        2    22\n",
              "45966991  HOBBIES_1_008_CA_1_validation        7        0  ...    16        2    23\n",
              "45966992  HOBBIES_1_008_CA_1_validation        7        0  ...    16        2    24\n",
              "\n",
              "[1913 rows x 37 columns]"
            ]
          },
          "metadata": {
            "tags": []
          },
          "execution_count": 15
        }
      ]
    },
    {
      "cell_type": "code",
      "metadata": {
        "id": "awMUqgNZEhJF",
        "colab_type": "code",
        "colab": {
          "base_uri": "https://localhost:8080/",
          "height": 123
        },
        "outputId": "7b6c7d69-4032-422c-a921-5a845b0c0889"
      },
      "source": [
        "ts.index"
      ],
      "execution_count": 16,
      "outputs": [
        {
          "output_type": "execute_result",
          "data": {
            "text/plain": [
              "Int64Index([       0,        1,        2,        3,        4,        5,\n",
              "                   6,    76524,    76525,    76526,\n",
              "            ...\n",
              "            45540172, 45753596, 45753597, 45753598, 45753599, 45753600,\n",
              "            45753601, 45753602, 45966991, 45966992],\n",
              "           dtype='int64', length=1913)"
            ]
          },
          "metadata": {
            "tags": []
          },
          "execution_count": 16
        }
      ]
    },
    {
      "cell_type": "code",
      "metadata": {
        "id": "g7iY7JuV6DmR",
        "colab_type": "code",
        "colab": {
          "base_uri": "https://localhost:8080/",
          "height": 737
        },
        "outputId": "259a7066-a142-4af8-b60a-e76915398e56"
      },
      "source": [
        "plt.figure(figsize=[16,12])\n",
        "sns.lineplot(data=tsdf, x='date', y='sales', palette=\"tab10\", linewidth=1)"
      ],
      "execution_count": 17,
      "outputs": [
        {
          "output_type": "execute_result",
          "data": {
            "text/plain": [
              "<matplotlib.axes._subplots.AxesSubplot at 0x7f2a4cb3da90>"
            ]
          },
          "metadata": {
            "tags": []
          },
          "execution_count": 17
        },
        {
          "output_type": "display_data",
          "data": {
            "image/png": "[encoded data removed]",
            "text/plain": [
              "<Figure size 1152x864 with 1 Axes>"
            ]
          },
          "metadata": {
            "tags": []
          }
        }
      ]
    },
    {
      "cell_type": "markdown",
      "metadata": {
        "id": "T_IcuzR9uYeG",
        "colab_type": "text"
      },
      "source": [
        "## 1B: Create Benchmarks"
      ]
    },
    {
      "cell_type": "markdown",
      "metadata": {
        "id": "HPeHAY4SvPiD",
        "colab_type": "text"
      },
      "source": [
        "### Moving Average"
      ]
    },
    {
      "cell_type": "code",
      "metadata": {
        "id": "IL1huXkHBhUN",
        "colab_type": "code",
        "colab": {}
      },
      "source": [
        "# Utility Error\n",
        "class ParameterError(Exception):\n",
        "  pass"
      ],
      "execution_count": 0,
      "outputs": []
    },
    {
      "cell_type": "code",
      "metadata": {
        "id": "AmZJrWDKEzKD",
        "colab_type": "code",
        "colab": {}
      },
      "source": [
        "# Calculate root mean squared scaled error\n",
        "def rmsse(orig_series, pred_series, h=1, intermittent = True):\n",
        "  '''\n",
        "  Calculates Root Mean Scaled Squared Error as defined in competitor's guide.\n",
        "\n",
        "  Parameters\n",
        "  ----------\n",
        "  orig_series: A numpy compatible object of the original series.\n",
        "\n",
        "  pred_series: A numpy compatible object of a model fit.\n",
        "\n",
        "  h: The forecast horizon assumed to be appended on the tail of orig_series and\n",
        "  pred_series. A value of 1 assumes no forecast and no averaging occurs.\n",
        "\n",
        "  intermittent: If the RMSSE should be calculated for areas of series' value \n",
        "  below 0.\n",
        "\n",
        "  Returns\n",
        "  -------\n",
        "  The RMSSE\n",
        "  '''\n",
        "\n",
        "  s1 = np.array(orig_series)\n",
        "  s2 = np.array(pred_series)\n",
        "\n",
        "  if intermittent:\n",
        "    nz_idx = s1 > 0\n",
        "    s1 = s1[nz_idx]\n",
        "    s2 = s2[nz_idx]\n",
        "\n",
        "  # Squared error\n",
        "  se = np.sum(np.square(s1 - s2))\n",
        "  # Scaled diff\n",
        "  sdiff = ( 1 / (len(s1) - 1) ) * np.sum(np.square(s1[1:] - np.diff(s1))) + 1e-7\n",
        "\n",
        "  rmsse = np.sqrt( 1/h * (se / sdiff) )\n",
        "\n",
        "  return rmsse"
      ],
      "execution_count": 0,
      "outputs": []
    },
    {
      "cell_type": "code",
      "metadata": {
        "id": "CeKwWS6_mElg",
        "colab_type": "code",
        "colab": {}
      },
      "source": [
        "def moving_average(series, windows, h=0):\n",
        "  '''\n",
        "  Calculates rolling mean using provided time windows. If multiple windows are\n",
        "  given, outputs a list of MA series with their respective window.\n",
        "\n",
        "  Parameters\n",
        "  ----------\n",
        "  series: A Pandas Series object to calculate the MA on.\n",
        "\n",
        "  windows: An iterable object which lists the number of previous levels to be \n",
        "  considered.\n",
        "\n",
        "  h: A forecast horizon for prediction. h = 0 means no prediction.\n",
        "\n",
        "\n",
        "  Returns\n",
        "  -------\n",
        "  A dictionary with the following items:\n",
        "    'series': The original series modeled.\n",
        "    'in_sample_fit': A pandas DataFrame of requested moving averages.\n",
        "    'out_sample_preds': A pandas DataFrame with predictions up to h.\n",
        "  '''\n",
        "\n",
        "  rolling_means = []\n",
        "  preds_list = []\n",
        "\n",
        "  for w in windows:\n",
        "    rolling_mean = series.rolling(window=w).mean()\n",
        "    rolling_mean[:w-1] = series[:w-1]\n",
        "    rolling_mean.name = f'{series.name}_MA{w}'\n",
        "    rolling_means.append(rolling_mean)\n",
        "\n",
        "    if h > 0:\n",
        "      preds = rolling_mean[-w:]\n",
        "\n",
        "      for i in range(h):\n",
        "        # Do not need to calculate rolling mean again for full series, only last\n",
        "        pred = preds[-w:].rolling(window=w).mean()[-1:]\n",
        "        preds = preds.append(pred, ignore_index = True)\n",
        "\n",
        "      # Only keep the predicted entries\n",
        "      preds = preds.iloc[w:]\n",
        "      preds = preds.reset_index(drop=True)\n",
        "\n",
        "    preds_list.append(preds)\n",
        "\n",
        "  preds_df = pd.DataFrame(preds_list).T\n",
        "  rolling_means = pd.DataFrame(rolling_means).T\n",
        "  \n",
        "  return_dict = {\n",
        "      'series': series,\n",
        "      'in_sample_fit': rolling_means,\n",
        "      'out_sample_preds': preds_df,\n",
        "  }\n",
        "\n",
        "  return return_dict"
      ],
      "execution_count": 0,
      "outputs": []
    },
    {
      "cell_type": "code",
      "metadata": {
        "id": "cbiHKUfc9BVH",
        "colab_type": "code",
        "colab": {
          "base_uri": "https://localhost:8080/",
          "height": 852
        },
        "outputId": "f7854441-8191-414d-ed9f-891f1dbde362"
      },
      "source": [
        "# Test MA\n",
        "mas = moving_average(ts, [4,3,2], h=20)\n",
        "mas"
      ],
      "execution_count": 243,
      "outputs": [
        {
          "output_type": "execute_result",
          "data": {
            "text/plain": [
              "{'in_sample_fit':           sales_MA4  sales_MA3  sales_MA2\n",
              " 0             12.00  12.000000       12.0\n",
              " 1             15.00  15.000000       13.5\n",
              " 2              0.00   9.000000        7.5\n",
              " 3              6.75   5.000000        0.0\n",
              " 4              3.75   0.000000        0.0\n",
              " ...             ...        ...        ...\n",
              " 45753600      11.25  14.666667        3.5\n",
              " 45753601      12.50   4.333333        5.0\n",
              " 45753602       4.00   4.333333        4.5\n",
              " 45966991       3.75   3.666667        2.5\n",
              " 45966992       3.00   2.000000        1.5\n",
              " \n",
              " [1913 rows x 3 columns],\n",
              " 'out_sample_preds':     sales_MA4  sales_MA3  sales_MA2\n",
              " 0    5.812500   3.333333   2.000000\n",
              " 1    4.140625   3.000000   1.750000\n",
              " 2    4.175781   2.777778   1.875000\n",
              " 3    4.282227   3.037037   1.812500\n",
              " 4    4.602783   2.938272   1.843750\n",
              " 5    4.300354   2.917695   1.828125\n",
              " 6    4.340286   2.964335   1.835938\n",
              " 7    4.381413   2.940101   1.832031\n",
              " 8    4.406209   2.940710   1.833984\n",
              " 9    4.357065   2.948382   1.833008\n",
              " 10   4.371243   2.943064   1.833496\n",
              " 11   4.378983   2.944052   1.833252\n",
              " 12   4.378375   2.945166   1.833374\n",
              " 13   4.371417   2.944094   1.833313\n",
              " 14   4.375004   2.944437   1.833344\n",
              " 15   4.375945   2.944566   1.833328\n",
              " 16   4.375185   2.944366   1.833336\n",
              " 17   4.374388   2.944456   1.833332\n",
              " 18   4.375130   2.944463   1.833334\n",
              " 19   4.375162   2.944428   1.833333,\n",
              " 'series': 0           12.0\n",
              " 1           15.0\n",
              " 2            0.0\n",
              " 3            0.0\n",
              " 4            0.0\n",
              "             ... \n",
              " 45753600     4.0\n",
              " 45753601     6.0\n",
              " 45753602     3.0\n",
              " 45966991     2.0\n",
              " 45966992     1.0\n",
              " Name: sales, Length: 1913, dtype: float32}"
            ]
          },
          "metadata": {
            "tags": []
          },
          "execution_count": 243
        }
      ]
    },
    {
      "cell_type": "code",
      "metadata": {
        "id": "l2icNKqSshId",
        "colab_type": "code",
        "colab": {
          "base_uri": "https://localhost:8080/",
          "height": 34
        },
        "outputId": "f2707a85-daf4-4210-a00d-880913d55f62"
      },
      "source": [
        "# Test RMSSE\n",
        "rmsse(ts, mas['in_sample_fit'].sales_MA4)"
      ],
      "execution_count": 260,
      "outputs": [
        {
          "output_type": "execute_result",
          "data": {
            "text/plain": [
              "22.160350534498455"
            ]
          },
          "metadata": {
            "tags": []
          },
          "execution_count": 260
        }
      ]
    },
    {
      "cell_type": "markdown",
      "metadata": {
        "id": "5vCj5yy62hGg",
        "colab_type": "text"
      },
      "source": [
        "### Exponential Smoothing"
      ]
    },
    {
      "cell_type": "code",
      "metadata": {
        "id": "qjsoPsJ8Ez5S",
        "colab_type": "code",
        "colab": {}
      },
      "source": [
        "# Utility functions for smoothing params\n",
        "def check_smoothing_params(params):\n",
        "  for p in params:\n",
        "      if (p * 100) - int(p * 100) != 0:\n",
        "        raise ParameterError(\"Only 2 significant digits for smoothing parameters are accepted. Received {}\".format(a))\n",
        "      if (p > 0.99) or (p < 0.1):\n",
        "        raise ParameterError(\"Smoothing parameters must be between 0 and 1. Received {}\".format(a))\n"
      ],
      "execution_count": 0,
      "outputs": []
    },
    {
      "cell_type": "code",
      "metadata": {
        "id": "x0lLCIQ7mEix",
        "colab_type": "code",
        "colab": {}
      },
      "source": [
        "def exponential_smoothing(series, alphas, h = 0):\n",
        "  '''\n",
        "  Calculates exponential smoothing model on given series and smoothing params.\n",
        "\n",
        "  Parameters\n",
        "  ----------\n",
        "  series: A Pandas Series object to calculate the model on.\n",
        "\n",
        "  alphas: An iterable object of smoothing parameters which currently accepts \n",
        "  any value. Values over 2 significant figures are not allowed currently.\n",
        "\n",
        "  h: Integer. The number of time steps for a forecast horizon\n",
        "\n",
        "  Returns\n",
        "  -------\n",
        "  A dictionary with the following items:\n",
        "    'series': The original series modeled.\n",
        "    'in_sample_fit': A pandas DataFrame of requested SES models.\n",
        "    'out_sample_preds': A pandas DataFrame with predictions up to h.\n",
        "  '''\n",
        "\n",
        "  check_smoothing_params(alphas)\n",
        "  \n",
        "  # Append smoothed series to this list\n",
        "  ES_ALL = []\n",
        "  preds_all = []\n",
        "\n",
        "  # For each alpha listed,\n",
        "  for a in alphas:\n",
        "    name = 'ES_a{:0>2d}'.format(int(a * 100))\n",
        "    ES = pd.Series(series[0])\n",
        "    ES = ES.append(pd.Series(series[1]))\n",
        "    # iterate over the series creating another smoothed series\n",
        "    for idx in range(1, len(series)-1):\n",
        "      ES = ES.append(pd.Series(a * series.iloc[idx] + (1 - a) * ES.iloc[idx - 1]))\n",
        "  \n",
        "    if h > 0:\n",
        "      ES_preds = []\n",
        "      ES_preds.append(ES.iloc[-1])\n",
        "      ES_preds.append(ES.iloc[-2])\n",
        "      for idx in range(1, h):\n",
        "        ES_preds.append(pd.Series(a * ES_preds[idx] + (1 - a) * ES_preds[idx - 1]))\n",
        "      \n",
        "      ES_preds = pd.Series(ES_preds)\n",
        "      ES_preds.name = name\n",
        "      preds_all.append(ES_preds)\n",
        "##\n",
        "    # Rename for merging later\n",
        "    ES.name = name\n",
        "    ES = ES.reset_index(drop=True)\n",
        "    ES_ALL.append(ES)\n",
        "\n",
        "  ES_ALL = pd.DataFrame(ES_ALL).T\n",
        "  preds_df = pd.DataFrame(preds_all).T\n",
        "\n",
        "  return_dict = {\n",
        "      'series': series,\n",
        "      'in_sample_fit': ES_ALL,\n",
        "      'out_sample_preds': preds_df,\n",
        "  }\n",
        "\n",
        "\n",
        "  return return_dict\n",
        "  "
      ],
      "execution_count": 0,
      "outputs": []
    },
    {
      "cell_type": "code",
      "metadata": {
        "id": "Yqw3pkLRyma9",
        "colab_type": "code",
        "colab": {
          "base_uri": "https://localhost:8080/",
          "height": 137
        },
        "outputId": "9d90c168-5c6b-4f03-d619-6b1ec3c1cd05"
      },
      "source": [
        "ses = exponential_smoothing(ts, [0.1, 0.2], 2)\n",
        "ses['out_sample_preds']"
      ],
      "execution_count": 378,
      "outputs": [
        {
          "output_type": "execute_result",
          "data": {
            "text/html": [
              "<div>\n",
              "<style scoped>\n",
              "    .dataframe tbody tr th:only-of-type {\n",
              "        vertical-align: middle;\n",
              "    }\n",
              "\n",
              "    .dataframe tbody tr th {\n",
              "        vertical-align: top;\n",
              "    }\n",
              "\n",
              "    .dataframe thead th {\n",
              "        text-align: right;\n",
              "    }\n",
              "</style>\n",
              "<table border=\"1\" class=\"dataframe\">\n",
              "  <thead>\n",
              "    <tr style=\"text-align: right;\">\n",
              "      <th></th>\n",
              "      <th>ES_a10</th>\n",
              "      <th>ES_a20</th>\n",
              "    </tr>\n",
              "  </thead>\n",
              "  <tbody>\n",
              "    <tr>\n",
              "      <th>0</th>\n",
              "      <td>6.16835</td>\n",
              "      <td>4.97622</td>\n",
              "    </tr>\n",
              "    <tr>\n",
              "      <th>1</th>\n",
              "      <td>8.67411</td>\n",
              "      <td>8.64314</td>\n",
              "    </tr>\n",
              "    <tr>\n",
              "      <th>2</th>\n",
              "      <td>0    6.418922\n",
              "dtype: float64</td>\n",
              "      <td>0    5.709602\n",
              "dtype: float64</td>\n",
              "    </tr>\n",
              "  </tbody>\n",
              "</table>\n",
              "</div>"
            ],
            "text/plain": [
              "                         ES_a10                        ES_a20\n",
              "0                       6.16835                       4.97622\n",
              "1                       8.67411                       8.64314\n",
              "2  0    6.418922\n",
              "dtype: float64  0    5.709602\n",
              "dtype: float64"
            ]
          },
          "metadata": {
            "tags": []
          },
          "execution_count": 378
        }
      ]
    },
    {
      "cell_type": "markdown",
      "metadata": {
        "id": "Dr0Xc3-YDlC1",
        "colab_type": "text"
      },
      "source": [
        "### Double Exponential Smoothing"
      ]
    },
    {
      "cell_type": "code",
      "metadata": {
        "id": "eQ6UIMrNBBez",
        "colab_type": "code",
        "colab": {}
      },
      "source": [
        "def double_exponential_smoothing(series, alphas, betas, h):\n",
        "  '''\n",
        "  Calculates double exponential smoothing model on given series and smoothing params.\n",
        "\n",
        "  Parameters\n",
        "  ----------\n",
        "  series: A Pandas Series object to calculate the model on.\n",
        "\n",
        "  alphas: An iterable object of smoothing parameters. Values over 2 significant figures are not allowed.\n",
        "\n",
        "  beta: An iterable object of secondary smoothing parameters. Values over 2 significant figures are not allowed.\n",
        "\n",
        "  h: Integer. The number of time steps in the future for prediction.\n",
        "\n",
        "  Returns\n",
        "  -------\n",
        "  A list of double exponential smoothing models with n = alphas.length * betas.length.\n",
        "  '''\n",
        "\n",
        "  s = np.array(series)\n",
        "  check_smoothing_params(alphas)\n",
        "  check_smoothing_params(betas)\n",
        "  \n",
        "  # Append smoothed series to this list\n",
        "  DBL_ES_ALL = []\n",
        "\n",
        "  # For each alpha listed,\n",
        "  for a in alphas:\n",
        "    # and each beta listed,\n",
        "    for b in betas:\n",
        "      DBL_ES = [series.iloc[0]]\n",
        "      # iterate over the series creating another smoothed series\n",
        "      for idx in range(1, len(series)):\n",
        "        if idx == 1:\n",
        "          level, trend = series.iloc[0], series.iloc[1] - series.iloc[0]\n",
        "        if idx >= len(series):\n",
        "          val = series.iloc[-1]\n",
        "        else:\n",
        "          val = series.iloc[idx]\n",
        "\n",
        "        last_level, level = level, a * val + (1 - a) * (level + trend)\n",
        "        trend = b * (level - last_level) + (1 - b) * trend\n",
        "        DBL_ES.append(level + trend)\n",
        "\n",
        "    DBL_ES = pd.Series(DBL_ES)\n",
        "    # Rename for merging later\n",
        "    DBL_ES = DBL_ES.rename('DBL_ES_a{:0>2d}_b{:0>2d}'.format(int(a * 100), int(b * 100)))\n",
        "    DBL_ES_ALL.append(DBL_ES)\n",
        "\n",
        "  DBL_ES_ALL = pd.DataFrame(DBL_ES_ALL).T\n",
        "\n",
        "  return_dict = {\n",
        "      'series': series,\n",
        "      'in_sample_fit': DBL_ES_ALL,\n",
        "      'out_sample_preds': [],\n",
        "  }\n",
        "\n",
        "  return DBL_ES_ALL"
      ],
      "execution_count": 0,
      "outputs": []
    },
    {
      "cell_type": "code",
      "metadata": {
        "id": "46TJLv2WB-o3",
        "colab_type": "code",
        "colab": {
          "base_uri": "https://localhost:8080/",
          "height": 406
        },
        "outputId": "feb2ef0f-f12c-4def-98c5-7eb74e416120"
      },
      "source": [
        "des = double_exponential_smoothing(ts, [0.3], [0.2])\n",
        "des = des.set_index(ts.index.values)\n",
        "des"
      ],
      "execution_count": 65,
      "outputs": [
        {
          "output_type": "execute_result",
          "data": {
            "text/html": [
              "<div>\n",
              "<style scoped>\n",
              "    .dataframe tbody tr th:only-of-type {\n",
              "        vertical-align: middle;\n",
              "    }\n",
              "\n",
              "    .dataframe tbody tr th {\n",
              "        vertical-align: top;\n",
              "    }\n",
              "\n",
              "    .dataframe thead th {\n",
              "        text-align: right;\n",
              "    }\n",
              "</style>\n",
              "<table border=\"1\" class=\"dataframe\">\n",
              "  <thead>\n",
              "    <tr style=\"text-align: right;\">\n",
              "      <th></th>\n",
              "      <th>DBL_ES_a30_b20</th>\n",
              "    </tr>\n",
              "  </thead>\n",
              "  <tbody>\n",
              "    <tr>\n",
              "      <th>0</th>\n",
              "      <td>12.000000</td>\n",
              "    </tr>\n",
              "    <tr>\n",
              "      <th>1</th>\n",
              "      <td>18.000000</td>\n",
              "    </tr>\n",
              "    <tr>\n",
              "      <th>2</th>\n",
              "      <td>14.520000</td>\n",
              "    </tr>\n",
              "    <tr>\n",
              "      <th>3</th>\n",
              "      <td>11.212800</td>\n",
              "    </tr>\n",
              "    <tr>\n",
              "      <th>4</th>\n",
              "      <td>8.224992</td>\n",
              "    </tr>\n",
              "    <tr>\n",
              "      <th>...</th>\n",
              "      <td>...</td>\n",
              "    </tr>\n",
              "    <tr>\n",
              "      <th>45753600</th>\n",
              "      <td>8.011140</td>\n",
              "    </tr>\n",
              "    <tr>\n",
              "      <th>45753601</th>\n",
              "      <td>7.504799</td>\n",
              "    </tr>\n",
              "    <tr>\n",
              "      <th>45753602</th>\n",
              "      <td>5.980072</td>\n",
              "    </tr>\n",
              "    <tr>\n",
              "      <th>45966991</th>\n",
              "      <td>4.373959</td>\n",
              "    </tr>\n",
              "    <tr>\n",
              "      <th>45966992</th>\n",
              "      <td>2.747242</td>\n",
              "    </tr>\n",
              "  </tbody>\n",
              "</table>\n",
              "<p>1913 rows × 1 columns</p>\n",
              "</div>"
            ],
            "text/plain": [
              "          DBL_ES_a30_b20\n",
              "0              12.000000\n",
              "1              18.000000\n",
              "2              14.520000\n",
              "3              11.212800\n",
              "4               8.224992\n",
              "...                  ...\n",
              "45753600        8.011140\n",
              "45753601        7.504799\n",
              "45753602        5.980072\n",
              "45966991        4.373959\n",
              "45966992        2.747242\n",
              "\n",
              "[1913 rows x 1 columns]"
            ]
          },
          "metadata": {
            "tags": []
          },
          "execution_count": 65
        }
      ]
    },
    {
      "cell_type": "code",
      "metadata": {
        "id": "6w3SF-FzPpxa",
        "colab_type": "code",
        "colab": {}
      },
      "source": [
        "tsdf = tsdf.merge(des, left_index=True, right_index=True)"
      ],
      "execution_count": 0,
      "outputs": []
    },
    {
      "cell_type": "code",
      "metadata": {
        "id": "CrldaBb8M0Ey",
        "colab_type": "code",
        "colab": {
          "base_uri": "https://localhost:8080/",
          "height": 406
        },
        "outputId": "6ce27842-8ec1-4fe7-f356-2e4d8fb4cbc6"
      },
      "source": [
        "# Melt to get in shape for sns plot\n",
        "tsdf_melt = tsdf.melt(id_vars='date', value_vars=['sales', 'DBL_ES_a30_b20'])\n",
        "tsdf_melt"
      ],
      "execution_count": 70,
      "outputs": [
        {
          "output_type": "execute_result",
          "data": {
            "text/html": [
              "<div>\n",
              "<style scoped>\n",
              "    .dataframe tbody tr th:only-of-type {\n",
              "        vertical-align: middle;\n",
              "    }\n",
              "\n",
              "    .dataframe tbody tr th {\n",
              "        vertical-align: top;\n",
              "    }\n",
              "\n",
              "    .dataframe thead th {\n",
              "        text-align: right;\n",
              "    }\n",
              "</style>\n",
              "<table border=\"1\" class=\"dataframe\">\n",
              "  <thead>\n",
              "    <tr style=\"text-align: right;\">\n",
              "      <th></th>\n",
              "      <th>date</th>\n",
              "      <th>variable</th>\n",
              "      <th>value</th>\n",
              "    </tr>\n",
              "  </thead>\n",
              "  <tbody>\n",
              "    <tr>\n",
              "      <th>0</th>\n",
              "      <td>2011-01-29</td>\n",
              "      <td>sales</td>\n",
              "      <td>12.000000</td>\n",
              "    </tr>\n",
              "    <tr>\n",
              "      <th>1</th>\n",
              "      <td>2011-01-30</td>\n",
              "      <td>sales</td>\n",
              "      <td>15.000000</td>\n",
              "    </tr>\n",
              "    <tr>\n",
              "      <th>2</th>\n",
              "      <td>2011-01-31</td>\n",
              "      <td>sales</td>\n",
              "      <td>0.000000</td>\n",
              "    </tr>\n",
              "    <tr>\n",
              "      <th>3</th>\n",
              "      <td>2011-02-01</td>\n",
              "      <td>sales</td>\n",
              "      <td>0.000000</td>\n",
              "    </tr>\n",
              "    <tr>\n",
              "      <th>4</th>\n",
              "      <td>2011-02-02</td>\n",
              "      <td>sales</td>\n",
              "      <td>0.000000</td>\n",
              "    </tr>\n",
              "    <tr>\n",
              "      <th>...</th>\n",
              "      <td>...</td>\n",
              "      <td>...</td>\n",
              "      <td>...</td>\n",
              "    </tr>\n",
              "    <tr>\n",
              "      <th>3821</th>\n",
              "      <td>2016-04-20</td>\n",
              "      <td>DBL_ES_a30_b20</td>\n",
              "      <td>8.011140</td>\n",
              "    </tr>\n",
              "    <tr>\n",
              "      <th>3822</th>\n",
              "      <td>2016-04-21</td>\n",
              "      <td>DBL_ES_a30_b20</td>\n",
              "      <td>7.504799</td>\n",
              "    </tr>\n",
              "    <tr>\n",
              "      <th>3823</th>\n",
              "      <td>2016-04-22</td>\n",
              "      <td>DBL_ES_a30_b20</td>\n",
              "      <td>5.980072</td>\n",
              "    </tr>\n",
              "    <tr>\n",
              "      <th>3824</th>\n",
              "      <td>2016-04-23</td>\n",
              "      <td>DBL_ES_a30_b20</td>\n",
              "      <td>4.373959</td>\n",
              "    </tr>\n",
              "    <tr>\n",
              "      <th>3825</th>\n",
              "      <td>2016-04-24</td>\n",
              "      <td>DBL_ES_a30_b20</td>\n",
              "      <td>2.747242</td>\n",
              "    </tr>\n",
              "  </tbody>\n",
              "</table>\n",
              "<p>3826 rows × 3 columns</p>\n",
              "</div>"
            ],
            "text/plain": [
              "           date        variable      value\n",
              "0    2011-01-29           sales  12.000000\n",
              "1    2011-01-30           sales  15.000000\n",
              "2    2011-01-31           sales   0.000000\n",
              "3    2011-02-01           sales   0.000000\n",
              "4    2011-02-02           sales   0.000000\n",
              "...         ...             ...        ...\n",
              "3821 2016-04-20  DBL_ES_a30_b20   8.011140\n",
              "3822 2016-04-21  DBL_ES_a30_b20   7.504799\n",
              "3823 2016-04-22  DBL_ES_a30_b20   5.980072\n",
              "3824 2016-04-23  DBL_ES_a30_b20   4.373959\n",
              "3825 2016-04-24  DBL_ES_a30_b20   2.747242\n",
              "\n",
              "[3826 rows x 3 columns]"
            ]
          },
          "metadata": {
            "tags": []
          },
          "execution_count": 70
        }
      ]
    },
    {
      "cell_type": "code",
      "metadata": {
        "id": "9YA9gDOeGg_Q",
        "colab_type": "code",
        "colab": {
          "base_uri": "https://localhost:8080/",
          "height": 737
        },
        "outputId": "411cb42c-d5c9-43fb-cd18-855eeac91de0"
      },
      "source": [
        "plt.figure(figsize=[16,12])\n",
        "sns.lineplot(data=tsdf_melt, x='date', y='value', hue='variable', palette=\"tab10\", linewidth=1)"
      ],
      "execution_count": 76,
      "outputs": [
        {
          "output_type": "execute_result",
          "data": {
            "text/plain": [
              "<matplotlib.axes._subplots.AxesSubplot at 0x7f2a4cee8c88>"
            ]
          },
          "metadata": {
            "tags": []
          },
          "execution_count": 76
        },
        {
          "output_type": "display_data",
          "data": {
            "image/png": "[encoded data removed]",
            "text/plain": [
              "<Figure size 1152x864 with 1 Axes>"
            ]
          },
          "metadata": {
            "tags": []
          }
        }
      ]
    },
    {
      "cell_type": "markdown",
      "metadata": {
        "id": "qy70agGZiYrg",
        "colab_type": "text"
      },
      "source": [
        "### Croston's Method and Variants"
      ]
    },
    {
      "cell_type": "code",
      "metadata": {
        "id": "AOYrmjGniYEq",
        "colab_type": "code",
        "colab": {}
      },
      "source": [
        "def crostons_method(series, variant = 'original'):\n",
        "  '''\n",
        "  Calculates Croston's Method and some of its variants.\n",
        "\n",
        "  Parameters\n",
        "  ----------\n",
        "  series: A Pandas Series object to calculate the model on.\n",
        "  variant: The Croston's Method variant. Default's to 'original'. Available options are:\n",
        "    'original' - original set with exponential smoothing at 0.1.\n",
        "    'optcro' - exponential smoothing selected from [0.1, 0.3].\n",
        "    'sba' - Syntetos-Boylan Approximation includes a debias but otherwise same as 'optcro'.\n",
        "    'tsb' - Teunter-Syntetos-Babai replaces the demand interval, p, with demand probability.\n",
        "\n",
        "  Returns\n",
        "  -------\n",
        "  Pandas Series with the same length as the input.\n",
        "  '''\n",
        "\n",
        "  input_series = np.asarray(series)\n",
        "  series_length = len(input_series)\n",
        "  v = variant.lower()\n",
        "  \n",
        "\n",
        "  # Decompose series into non-zero demand and zero demand\n",
        "  # Non-zero demand\n",
        "  nzd = np.where(input_series != 0)[0]\n",
        "  k = len(nzd)\n",
        "  z = input_series[nzd]\n",
        "\n",
        "  # Inter-demand intervals\n",
        "  p = np.concatenate([[nzd[0]], np.diff(nzd)])\n",
        "\n",
        "  # TSB variant where demand is non-zero then 1 else 0\n",
        "  # Trick to transform p to d (demand probability)\n",
        "  if v == 'tsb':\n",
        "    p = np.zeros(len(input_series))\n",
        "    p[np.argwhere(input_series > 1)] = 1\n",
        "\n",
        "  \n",
        "  d = np.zeros(len(input_series))\n",
        "  d[np.argwhere(input_series > 1)] = 1\n",
        "  \n",
        "  '''\n",
        "  # Initialize\n",
        "  start = z[0]\n",
        "\n",
        "  z_croston = np.array([None] * k)\n",
        "  p_croston = np.array([None] * k)\n",
        "\n",
        "  z_croston[0] = init[0]\n",
        "  # TODO: Difference between mean or just the first obs?\n",
        "  p_croston[0] = mean(p)\n",
        "  '''\n",
        "  # Find best smoothing parameter for each series\n",
        "  # Parameter suggestions here are in the M5 Competitors Guide\n",
        "  if v == 'original':\n",
        "    alphas = 0.1\n",
        "  elif (v == 'optcro') | (v == 'sba') | (v == 'tsb'):\n",
        "    alphas = range(0.1, 0.3, 0.02)\n",
        "  else:\n",
        "    alphas = 0.1\n",
        "\n",
        "  rmsse_z = []\n",
        "  rmsse_p = []\n",
        "\n",
        "  \n",
        "  # Regular linear search. Could add more sophistication here but not necessary for now\n",
        "  for a in alphas:\n",
        "\n",
        "    z_fit0 = exponential_smoothing(z, a)\n",
        "    rmsse_z.append(rmsse(z, z_fit0))\n",
        "\n",
        "    p_fit0 = exponential_smoothing(p, a)\n",
        "    rmsse_p.append(rmsse(p, p_fit0))\n",
        "\n",
        "  a_z = np.argmin(rmsse_z)\n",
        "  a_p = np.argmin(rmsse_p)\n",
        "\n",
        "  del z_fit0,p_fit0\n",
        "\n",
        "  z_fit = exponential_smoothing(z, a_z)\n",
        "  p_fit = exponential_smoothing(p, a_p)\n",
        "\n",
        "  # Set the debiasing factor based on version as listed in competitor's guide\n",
        "  if v == 'sba':\n",
        "    debias = 1 - (a_p / 2)\n",
        "  else:\n",
        "    debias = 1\n",
        "\n",
        "  if v == 'tsb':\n",
        "    fit = p_fit * z_fit\n",
        "  else:\n",
        "    fit = debias * ( z_fit / p_fit )\n",
        "\n",
        "  fit = pd.Series(fit)\n",
        "  fit.rename(f'CRO_{v}')\n",
        "  return fit\n",
        "  "
      ],
      "execution_count": 0,
      "outputs": []
    },
    {
      "cell_type": "code",
      "metadata": {
        "id": "ZgfaxFozVK0W",
        "colab_type": "code",
        "colab": {}
      },
      "source": [
        ""
      ],
      "execution_count": 0,
      "outputs": []
    },
    {
      "cell_type": "markdown",
      "metadata": {
        "id": "9DnvW6ENy-qb",
        "colab_type": "text"
      },
      "source": [
        "The next baseline models will come from open sources due to time and humility."
      ]
    },
    {
      "cell_type": "markdown",
      "metadata": {
        "id": "jiTck_27VYll",
        "colab_type": "text"
      },
      "source": [
        "### ARIMA and Variants"
      ]
    },
    {
      "cell_type": "code",
      "metadata": {
        "id": "1RqFNnV_M74K",
        "colab_type": "code",
        "colab": {}
      },
      "source": [
        "from statsmodels.tsa.arima_model import ARIMA\n",
        "## Need to add exog\n",
        "def opt_arima(series, h=0):\n",
        "  '''\n",
        "  Optimizes ARIMA variants using RMSSE.\n",
        "\n",
        "  Parameters\n",
        "  ----------\n",
        "  series: A Pandas Series object to calculate the model on.\n",
        "\n",
        "  h: The forecast horizon.\n",
        "\n",
        "  Returns\n",
        "  -------\n",
        "  Dictionary of the best ARIMA parameters according to RMSSE and model fit:\n",
        "   'arima_pdq': Parameters of ARIMA model.\n",
        "   'arima_fit': ARIMA model fit.\n",
        "  \n",
        "  '''\n",
        "  ps = [1, 2, 3, 4, 5, 6]\n",
        "  ds = [1, 2, 3]\n",
        "  qs = [1, 2, 3, 4, 5, 6]\n",
        "\n",
        "  costs = []\n",
        "  model_desc = []\n",
        "  m = 1\n",
        "\n",
        "  # Grid search of model parameters\n",
        "  for p in ps:\n",
        "    for d in ds:\n",
        "      for q in qs:\n",
        "        model = ARIMA(series, order = (p, d, q))\n",
        "        model_fit = model.fit(disp=-1)\n",
        "        resid = model_fit.geterrors([p, d, q], )\n",
        "        resid_mean = np.mean(resid)\n",
        "        if h > 0:\n",
        "          cost = rmsse(series, model_fit, h = h)\n",
        "        else:\n",
        "          cost = rmsse(series, model_fit)\n",
        "        costs.append(costs)\n",
        "        model_desc.append( [p, d, q] )\n",
        "        \n",
        "        if m > 1:\n",
        "          if cost < cost[m-1]:\n",
        "            best_model = [p, d, q]\n",
        "            best_model_fit = model_fit\n",
        "        else:\n",
        "          best_model = [p, d, q]\n",
        "          best_model_fit = model_fit\n",
        "        m+=1\n",
        "  if h > 0:\n",
        "    preds = model_fit.predict(best_model, start = len(resid)+1, end = h, typ = 'levels')\n",
        "\n",
        "  return_dict = {\n",
        "      'series' : series,\n",
        "      'arima_pdq' : best_model,\n",
        "      'arima_fit' : model_fit,\n",
        "      'in_sample_pred' : \n",
        "      'out_sample_pred' : \n",
        "  }\n",
        "\n",
        "  return return_dict"
      ],
      "execution_count": 0,
      "outputs": []
    },
    {
      "cell_type": "code",
      "metadata": {
        "id": "Q1ZZbV5uM71F",
        "colab_type": "code",
        "colab": {}
      },
      "source": [
        ""
      ],
      "execution_count": 0,
      "outputs": []
    },
    {
      "cell_type": "code",
      "metadata": {
        "id": "C2vvlpycM7yG",
        "colab_type": "code",
        "colab": {}
      },
      "source": [
        ""
      ],
      "execution_count": 0,
      "outputs": []
    },
    {
      "cell_type": "code",
      "metadata": {
        "id": "kQZ5_GZvM7vL",
        "colab_type": "code",
        "colab": {}
      },
      "source": [
        ""
      ],
      "execution_count": 0,
      "outputs": []
    },
    {
      "cell_type": "code",
      "metadata": {
        "id": "LOqV83YxM7sS",
        "colab_type": "code",
        "colab": {}
      },
      "source": [
        ""
      ],
      "execution_count": 0,
      "outputs": []
    },
    {
      "cell_type": "code",
      "metadata": {
        "id": "8vnb4qBvM7py",
        "colab_type": "code",
        "colab": {}
      },
      "source": [
        ""
      ],
      "execution_count": 0,
      "outputs": []
    },
    {
      "cell_type": "code",
      "metadata": {
        "id": "HEaMPXwfM7kl",
        "colab_type": "code",
        "colab": {}
      },
      "source": [
        ""
      ],
      "execution_count": 0,
      "outputs": []
    },
    {
      "cell_type": "code",
      "metadata": {
        "id": "YTnnILHXM7h3",
        "colab_type": "code",
        "colab": {}
      },
      "source": [
        ""
      ],
      "execution_count": 0,
      "outputs": []
    },
    {
      "cell_type": "code",
      "metadata": {
        "id": "IcxUMlz3M7fw",
        "colab_type": "code",
        "colab": {}
      },
      "source": [
        ""
      ],
      "execution_count": 0,
      "outputs": []
    },
    {
      "cell_type": "code",
      "metadata": {
        "id": "DzW_EacNM7dC",
        "colab_type": "code",
        "colab": {}
      },
      "source": [
        ""
      ],
      "execution_count": 0,
      "outputs": []
    },
    {
      "cell_type": "code",
      "metadata": {
        "id": "H2CWAV_fM7a0",
        "colab_type": "code",
        "colab": {}
      },
      "source": [
        ""
      ],
      "execution_count": 0,
      "outputs": []
    },
    {
      "cell_type": "code",
      "metadata": {
        "id": "ThY5foElM7X5",
        "colab_type": "code",
        "colab": {}
      },
      "source": [
        ""
      ],
      "execution_count": 0,
      "outputs": []
    },
    {
      "cell_type": "code",
      "metadata": {
        "id": "CUw_JDF4M7VE",
        "colab_type": "code",
        "colab": {}
      },
      "source": [
        ""
      ],
      "execution_count": 0,
      "outputs": []
    }
  ]
}